{
 "cells": [
  {
   "cell_type": "code",
   "execution_count": null,
   "id": "28a7d632-cbeb-4111-b146-4d0337d5f93c",
   "metadata": {},
   "outputs": [],
   "source": [
    "#Que.1Create a python programme to sort the given list of tuples based on integer value using a lamda function.\n",
    "#[('sachin tendulkar',34357),('ricky ponting',27483),('jack kallis',25534),('virat kohli',24936)]"
   ]
  },
  {
   "cell_type": "code",
   "execution_count": 41,
   "id": "5497f29f-3bad-4a4f-a236-6386c63f97de",
   "metadata": {},
   "outputs": [],
   "source": [
    "s = [('sachin tendulkar',34357),('ricky ponting',27483),('jack kallis',25534),('virat kohli',24936)]"
   ]
  },
  {
   "cell_type": "code",
   "execution_count": 42,
   "id": "a54c6c1b-53f4-4a99-aa23-afcbe5b36ff9",
   "metadata": {},
   "outputs": [
    {
     "name": "stdout",
     "output_type": "stream",
     "text": [
      "Sorted s:\n",
      "('virat kohli', 24936)\n",
      "('jack kallis', 25534)\n",
      "('ricky ponting', 27483)\n",
      "('sachin tendulkar', 34357)\n"
     ]
    }
   ],
   "source": [
    "sorted_s = sorted(s, key=lambda x: x[1])\n",
    "\n",
    "print(\"Sorted s:\")\n",
    "for item in sorted_s:\n",
    "    print(item)"
   ]
  },
  {
   "cell_type": "code",
   "execution_count": null,
   "id": "99ee06dd-f971-45d3-a23f-1ca4dca024d8",
   "metadata": {},
   "outputs": [],
   "source": [
    "#Que.2Write a python programme to find the squares of all the numbers in the given list of integers using lambda and map functions.\n",
    "[1,2,3,4,5,6,7,8,9,10]"
   ]
  },
  {
   "cell_type": "code",
   "execution_count": 19,
   "id": "02b7d853-6a6e-429e-a5d5-a36560754734",
   "metadata": {},
   "outputs": [
    {
     "data": {
      "text/plain": [
       "[1, 4, 9, 16, 25, 36, 49, 64, 81, 100]"
      ]
     },
     "execution_count": 19,
     "metadata": {},
     "output_type": "execute_result"
    }
   ],
   "source": [
    "s = [1,2,3,4,5,6,7,8,9,10]\n",
    "list(map(lambda s: s**2,s))"
   ]
  },
  {
   "cell_type": "code",
   "execution_count": null,
   "id": "0d26be0d-ed0e-45c3-a1f7-358d6fabdf6a",
   "metadata": {},
   "outputs": [],
   "source": [
    "#Que.3Write a python programme to convert the given list of integers into a tuple of strings.use lambda and map functions.\n",
    "#given string:[1,2,3,4,5,6,7,8,9,10] Expected output:('1','2','3','4','5','6','7','8','9','10')"
   ]
  },
  {
   "cell_type": "code",
   "execution_count": 43,
   "id": "40e02d51-01b8-413d-9aec-ac3f7632c045",
   "metadata": {},
   "outputs": [
    {
     "name": "stdout",
     "output_type": "stream",
     "text": [
      "Converted tuple of strings: ('1', '2', '3', '4', '5', '6', '7', '8', '9', '10')\n"
     ]
    }
   ],
   "source": [
    "s = [1,2,3,4,5,6,7,8,9,10]\n",
    "s1 = tuple(map(lambda x: str(x),s))\n",
    "print(\"Converted tuple of strings:\", s1)\n",
    "\n"
   ]
  },
  {
   "cell_type": "code",
   "execution_count": null,
   "id": "9648b462-6564-436b-aa82-8d07e62c1d7e",
   "metadata": {},
   "outputs": [],
   "source": [
    "#Que.4Write a python programme using reduce function to compute the product of a list containing numbers from 1 to 25."
   ]
  },
  {
   "cell_type": "code",
   "execution_count": 23,
   "id": "14ca56e6-b19f-4042-8d50-e854c5df6a89",
   "metadata": {},
   "outputs": [],
   "source": [
    "from functools import reduce"
   ]
  },
  {
   "cell_type": "code",
   "execution_count": 24,
   "id": "ab421ddc-d945-46a5-aef3-8ee5a69920b0",
   "metadata": {},
   "outputs": [],
   "source": [
    "l = [1,2,3,4,5,6,7,8,9,10,11,12,13,14,15,16,17,18,19,20,21,22,23,24,25]"
   ]
  },
  {
   "cell_type": "code",
   "execution_count": 27,
   "id": "93a2a9c5-cecf-4687-a1c0-c9dabb94bd6b",
   "metadata": {},
   "outputs": [
    {
     "data": {
      "text/plain": [
       "325"
      ]
     },
     "execution_count": 27,
     "metadata": {},
     "output_type": "execute_result"
    }
   ],
   "source": [
    "reduce(lambda x,y: x+y , l)"
   ]
  },
  {
   "cell_type": "code",
   "execution_count": null,
   "id": "dbdae94d-0400-4af5-8e0a-a6a22b6603ca",
   "metadata": {},
   "outputs": [],
   "source": [
    "#Que.5Write a python programme to filter the numbers in a given list that are divided by 2 and 3 using the filter function.\n",
    "[2,3,6,9,27,60,90,120,55,46]"
   ]
  },
  {
   "cell_type": "code",
   "execution_count": 30,
   "id": "9dd0a9a0-5773-40ce-a401-fdc6ef9f6d3a",
   "metadata": {},
   "outputs": [],
   "source": [
    "l = [2,3,6,9,27,60,90,120,55,46]"
   ]
  },
  {
   "cell_type": "code",
   "execution_count": 33,
   "id": "9c1e33bf-a41d-4bc2-abb2-d1a71292725a",
   "metadata": {},
   "outputs": [
    {
     "data": {
      "text/plain": [
       "[6, 60, 90, 120]"
      ]
     },
     "execution_count": 33,
     "metadata": {},
     "output_type": "execute_result"
    }
   ],
   "source": [
    "list(filter(lambda x:  x%2 == 0 and x%3 == 0,l))"
   ]
  },
  {
   "cell_type": "code",
   "execution_count": null,
   "id": "df049333-867e-475f-b414-5887e35e5c5f",
   "metadata": {},
   "outputs": [],
   "source": [
    "#Que.6Write a python programme to find palindromes in the given list of string using lambda and filter function.\n",
    "#['python','php','aba','radar','level']"
   ]
  },
  {
   "cell_type": "code",
   "execution_count": 34,
   "id": "d807ad0c-b5bb-42e3-aa71-7211fd1299fd",
   "metadata": {},
   "outputs": [],
   "source": [
    "s = ['python','php','aba','radar','level']"
   ]
  },
  {
   "cell_type": "code",
   "execution_count": 35,
   "id": "c4e4c20b-c0b7-49f0-8bb8-6ba04757df42",
   "metadata": {},
   "outputs": [
    {
     "data": {
      "text/plain": [
       "['php', 'aba', 'radar', 'level']"
      ]
     },
     "execution_count": 35,
     "metadata": {},
     "output_type": "execute_result"
    }
   ],
   "source": [
    "def is_palindrome(s):\n",
    "    return s == s[::-1]\n",
    "\n",
    "list(filter(lambda x: is_palindrome(x), s))\n",
    "\n"
   ]
  }
 ],
 "metadata": {
  "kernelspec": {
   "display_name": "Python 3 (ipykernel)",
   "language": "python",
   "name": "python3"
  },
  "language_info": {
   "codemirror_mode": {
    "name": "ipython",
    "version": 3
   },
   "file_extension": ".py",
   "mimetype": "text/x-python",
   "name": "python",
   "nbconvert_exporter": "python",
   "pygments_lexer": "ipython3",
   "version": "3.10.8"
  }
 },
 "nbformat": 4,
 "nbformat_minor": 5
}
