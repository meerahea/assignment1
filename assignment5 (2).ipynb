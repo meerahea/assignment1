{
 "cells": [
  {
   "cell_type": "code",
   "execution_count": null,
   "id": "da216471-58c5-45ad-8b8b-1c971349d28f",
   "metadata": {},
   "outputs": [],
   "source": [
    "#Que.1Explain class and object with respect to Object-Oriented programming.Give a suitable example."
   ]
  },
  {
   "cell_type": "code",
   "execution_count": null,
   "id": "9694c655-05b2-45a1-ac11-91752e4aa795",
   "metadata": {},
   "outputs": [],
   "source": [
    "'''An object is an instance of a class and A class can be defined \n",
    "as a template/blueprint that describes the behavior/state that the object of its type support in oops.\n",
    "for example car is a class,while suv,muv,xuv,sedan are the objects.'''"
   ]
  },
  {
   "cell_type": "code",
   "execution_count": null,
   "id": "4a084958-bc1f-4b37-8249-1a1a83c0e3a6",
   "metadata": {},
   "outputs": [],
   "source": [
    "#Que.2Name the four pillars of OOPs."
   ]
  },
  {
   "cell_type": "code",
   "execution_count": null,
   "id": "3c0fd6aa-3f67-4efa-966b-e6bc1ead7e99",
   "metadata": {},
   "outputs": [],
   "source": [
    "'''There is four mainly pillars 1)abstraction,2)encapsulation,3)inheritance and 4)polymorphism in \n",
    "Ooject-Oriented programme.'''"
   ]
  },
  {
   "cell_type": "code",
   "execution_count": null,
   "id": "d275ea1b-284c-4865-99bb-69f82b12bee7",
   "metadata": {},
   "outputs": [],
   "source": [
    "#Que.3Explain why the __init__() function used.Give a suitable example."
   ]
  },
  {
   "cell_type": "code",
   "execution_count": null,
   "id": "c95821a7-0634-440f-91ee-e52a157aabed",
   "metadata": {},
   "outputs": [],
   "source": [
    "'''__init__ is a special python method that runs whenever a new object is created. \n",
    "These types of functions are used to initialize the attributes of that class'''"
   ]
  },
  {
   "cell_type": "code",
   "execution_count": null,
   "id": "916ad490-205b-4929-bc44-43c790e7c54d",
   "metadata": {},
   "outputs": [],
   "source": [
    "#Que.4Why self is used in OOPs?"
   ]
  },
  {
   "cell_type": "code",
   "execution_count": null,
   "id": "69dfeefe-07d2-4ab1-98ab-380a21ab2edc",
   "metadata": {},
   "outputs": [],
   "source": [
    "'''The self variable is used to represent the instance of the class which is often used in object-oriented programming.\n",
    "Python uses the self parameter to refer to instance attributes and methods of the class.'''"
   ]
  },
  {
   "cell_type": "code",
   "execution_count": null,
   "id": "56583bd6-42b7-41c1-b521-4cbabbe64a08",
   "metadata": {},
   "outputs": [],
   "source": [
    "#Que.5What is inheritance?Give an example for each type of inheritance."
   ]
  },
  {
   "cell_type": "code",
   "execution_count": null,
   "id": "bdd4c359-78e4-4f9a-8494-a89a2d961953",
   "metadata": {},
   "outputs": [],
   "source": [
    "'''Inheritance is a mechanism in which one class acquires the property of another class.\n",
    "For example, a child inherits the traits of his/her parents. With inheritance, we can reuse the fields \n",
    "and methods of the existing class.'''"
   ]
  }
 ],
 "metadata": {
  "kernelspec": {
   "display_name": "Python 3 (ipykernel)",
   "language": "python",
   "name": "python3"
  },
  "language_info": {
   "codemirror_mode": {
    "name": "ipython",
    "version": 3
   },
   "file_extension": ".py",
   "mimetype": "text/x-python",
   "name": "python",
   "nbconvert_exporter": "python",
   "pygments_lexer": "ipython3",
   "version": "3.10.8"
  }
 },
 "nbformat": 4,
 "nbformat_minor": 5
}
