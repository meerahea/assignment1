{
 "cells": [
  {
   "cell_type": "code",
   "execution_count": null,
   "id": "e028f5e5-0a3d-4775-8dd3-5b31a4f1ab42",
   "metadata": {},
   "outputs": [],
   "source": [
    "#que.1 create one variable containing following type of data."
   ]
  },
  {
   "cell_type": "code",
   "execution_count": 1,
   "id": "b053434b-eb08-49fd-8eb8-3c45cf53ed85",
   "metadata": {},
   "outputs": [
    {
     "data": {
      "text/plain": [
       "str"
      ]
     },
     "execution_count": 1,
     "metadata": {},
     "output_type": "execute_result"
    }
   ],
   "source": [
    "#string\n",
    "\n",
    "s = ('Hello world')\n",
    "\n",
    "type(s)"
   ]
  },
  {
   "cell_type": "code",
   "execution_count": 2,
   "id": "2b8e4a11-4f2b-456c-94c8-2058a20530f4",
   "metadata": {},
   "outputs": [
    {
     "data": {
      "text/plain": [
       "float"
      ]
     },
     "execution_count": 2,
     "metadata": {},
     "output_type": "execute_result"
    }
   ],
   "source": [
    "#float\n",
    "\n",
    "f = 34.45\n",
    "\n",
    "type(f)"
   ]
  },
  {
   "cell_type": "code",
   "execution_count": 3,
   "id": "e8a1a566-45d3-444c-9f85-5c57283e8944",
   "metadata": {},
   "outputs": [
    {
     "data": {
      "text/plain": [
       "list"
      ]
     },
     "execution_count": 3,
     "metadata": {},
     "output_type": "execute_result"
    }
   ],
   "source": [
    "#list\n",
    "\n",
    "l = [1,2,3,4,'hea',3+5j,6,True]\n",
    "\n",
    "type(l)"
   ]
  },
  {
   "cell_type": "code",
   "execution_count": 4,
   "id": "d3de8e0c-41a8-4f7b-b6e9-a7065d797bf7",
   "metadata": {},
   "outputs": [
    {
     "data": {
      "text/plain": [
       "tuple"
      ]
     },
     "execution_count": 4,
     "metadata": {},
     "output_type": "execute_result"
    }
   ],
   "source": [
    "#tuple\n",
    "\n",
    "t = (1,2,3,4,'hea',3+5j,6,True)\n",
    "\n",
    "type(t)\n"
   ]
  },
  {
   "cell_type": "code",
   "execution_count": null,
   "id": "be5357ac-da3d-4fc0-a7ab-1186eebd1768",
   "metadata": {},
   "outputs": [],
   "source": [
    "#que.2 given are some following variables containing data,what will be the data type of given variables"
   ]
  },
  {
   "cell_type": "code",
   "execution_count": 5,
   "id": "802bdb59-f138-4c38-a49f-e0b93a1b4de5",
   "metadata": {},
   "outputs": [
    {
     "data": {
      "text/plain": [
       "str"
      ]
     },
     "execution_count": 5,
     "metadata": {},
     "output_type": "execute_result"
    }
   ],
   "source": [
    "var1 = \"\"\n",
    "\n",
    "type(var1)"
   ]
  },
  {
   "cell_type": "code",
   "execution_count": 6,
   "id": "d40da43a-dd0b-4202-87c5-75556d04302c",
   "metadata": {},
   "outputs": [
    {
     "data": {
      "text/plain": [
       "str"
      ]
     },
     "execution_count": 6,
     "metadata": {},
     "output_type": "execute_result"
    }
   ],
   "source": [
    "var2 = '[ds,ml,python]'\n",
    "\n",
    "type(var2)"
   ]
  },
  {
   "cell_type": "code",
   "execution_count": 7,
   "id": "6ed85fb8-f369-403d-bd3d-a97f1b9b359f",
   "metadata": {},
   "outputs": [
    {
     "data": {
      "text/plain": [
       "list"
      ]
     },
     "execution_count": 7,
     "metadata": {},
     "output_type": "execute_result"
    }
   ],
   "source": [
    "var3 = ['ds','ml','python']\n",
    "\n",
    "type(var3)"
   ]
  },
  {
   "cell_type": "code",
   "execution_count": 8,
   "id": "4ebec7ac-5703-4755-af63-f333961b5ed6",
   "metadata": {},
   "outputs": [
    {
     "data": {
      "text/plain": [
       "float"
      ]
     },
     "execution_count": 8,
     "metadata": {},
     "output_type": "execute_result"
    }
   ],
   "source": [
    "var4 = 1.\n",
    "\n",
    "type(var4)"
   ]
  },
  {
   "cell_type": "code",
   "execution_count": null,
   "id": "cc86b2cb-b0f2-4878-8c30-79a22fb6f4d1",
   "metadata": {},
   "outputs": [],
   "source": [
    "#que.3 explain the use of the following operators using an example."
   ]
  },
  {
   "cell_type": "code",
   "execution_count": null,
   "id": "1fa75d9a-3005-4f87-a55a-7e45b9bd7184",
   "metadata": {},
   "outputs": [],
   "source": [
    "/    #division operator,what we get after division"
   ]
  },
  {
   "cell_type": "code",
   "execution_count": 11,
   "id": "eb01be5c-a46c-4dd7-8f15-cbbe309d0b81",
   "metadata": {},
   "outputs": [
    {
     "data": {
      "text/plain": [
       "5.0"
      ]
     },
     "execution_count": 11,
     "metadata": {},
     "output_type": "execute_result"
    }
   ],
   "source": [
    "10/2"
   ]
  },
  {
   "cell_type": "code",
   "execution_count": null,
   "id": "36a75fd0-b33f-41fa-b2d1-fd238f7ff8be",
   "metadata": {},
   "outputs": [],
   "source": [
    "%     #modulus operator,whatever left in reminder "
   ]
  },
  {
   "cell_type": "code",
   "execution_count": 3,
   "id": "6b3a24ae-3b37-49a4-b52d-513e7c81481b",
   "metadata": {},
   "outputs": [
    {
     "data": {
      "text/plain": [
       "1"
      ]
     },
     "execution_count": 3,
     "metadata": {},
     "output_type": "execute_result"
    }
   ],
   "source": [
    "1%2"
   ]
  },
  {
   "cell_type": "code",
   "execution_count": null,
   "id": "353086ff-6dcd-46b7-b4df-2b7411de94a7",
   "metadata": {},
   "outputs": [],
   "source": [
    "//   #division with two floor,whatever get."
   ]
  },
  {
   "cell_type": "code",
   "execution_count": 10,
   "id": "dc67e034-6aae-4b49-88fa-a6f7110f3cfb",
   "metadata": {},
   "outputs": [
    {
     "data": {
      "text/plain": [
       "6"
      ]
     },
     "execution_count": 10,
     "metadata": {},
     "output_type": "execute_result"
    }
   ],
   "source": [
    "25//4"
   ]
  },
  {
   "cell_type": "code",
   "execution_count": null,
   "id": "8371c1cc-a539-46d6-9b93-5ada27535c58",
   "metadata": {},
   "outputs": [],
   "source": [
    "**  #exponant operator"
   ]
  },
  {
   "cell_type": "code",
   "execution_count": 12,
   "id": "11c24962-349a-492d-985a-e6d8d9094d52",
   "metadata": {},
   "outputs": [
    {
     "data": {
      "text/plain": [
       "16"
      ]
     },
     "execution_count": 12,
     "metadata": {},
     "output_type": "execute_result"
    }
   ],
   "source": [
    "2**4"
   ]
  },
  {
   "cell_type": "code",
   "execution_count": null,
   "id": "43300e86-ded1-4e5f-8992-8171300c51cd",
   "metadata": {},
   "outputs": [],
   "source": [
    "#que.4 create a list of length 10 of your choice containing multiple types of data.using for \n",
    "loop print the elements and its data type."
   ]
  },
  {
   "cell_type": "code",
   "execution_count": 15,
   "id": "6161db2a-3839-4c05-9bd5-7d41a1e6299b",
   "metadata": {},
   "outputs": [
    {
     "name": "stdout",
     "output_type": "stream",
     "text": [
      "1\n",
      "<class 'int'>\n",
      "2\n",
      "<class 'int'>\n",
      "3\n",
      "<class 'int'>\n",
      "4\n",
      "<class 'int'>\n",
      "5\n",
      "<class 'int'>\n",
      "False\n",
      "<class 'bool'>\n",
      "True\n",
      "<class 'bool'>\n",
      "(3+4j)\n",
      "<class 'complex'>\n",
      "hea\n",
      "<class 'str'>\n",
      "2.3\n",
      "<class 'float'>\n"
     ]
    }
   ],
   "source": [
    "l = [1,2,3,4,5,False,True,3+4j,'hea',2.3]\n",
    "\n",
    "for i in l :\n",
    "    print(i)\n",
    "    print(type(i))"
   ]
  },
  {
   "cell_type": "code",
   "execution_count": null,
   "id": "b53bc785-1e64-4e74-82a7-3378b0313e66",
   "metadata": {},
   "outputs": [],
   "source": [
    "#que.5 using a while loop,verify if the number A is purely divisible by number B and if so how many\n",
    "times it can be divisible."
   ]
  },
  {
   "cell_type": "code",
   "execution_count": null,
   "id": "ce0b5da0-b086-42ca-bd29-5882cf9044d0",
   "metadata": {},
   "outputs": [],
   "source": [
    "A = 3\n",
    "B = 3\n",
    "while A % B == 0:\n",
    "    print('A is divisible by B')"
   ]
  },
  {
   "cell_type": "code",
   "execution_count": null,
   "id": "48c4a662-2910-46e1-a56b-acfdff8f5fb8",
   "metadata": {},
   "outputs": [],
   "source": [
    "#que.6 create a list containing 25 int type data.using for loop and if-else condition print if the\n",
    "element is divisible by 3 or not."
   ]
  },
  {
   "cell_type": "code",
   "execution_count": 33,
   "id": "4e9dc541-489b-4957-b9fb-cd036209e285",
   "metadata": {},
   "outputs": [
    {
     "name": "stdout",
     "output_type": "stream",
     "text": [
      "The number is divisble by 3\n",
      "The number is divisble by 3\n",
      "The number is divisble by 3\n",
      "The number is divisble by 3\n",
      "The number is divisble by 3\n",
      "The number is divisble by 3\n",
      "The number is divisble by 3\n",
      "The number is divisble by 3\n",
      "The number is divisble by 3\n",
      "The number is not divisible by 3\n"
     ]
    }
   ],
   "source": [
    "l = list(range(25))\n",
    "for i in l :\n",
    "    if i % 3 == 0 :\n",
    "        print('The number is divisble by 3')\n",
    "else :\n",
    "    print('The number is not divisible by 3')"
   ]
  },
  {
   "cell_type": "code",
   "execution_count": null,
   "id": "b004c44d-2c6d-48ce-ba3c-8b8006de8ac0",
   "metadata": {},
   "outputs": [],
   "source": [
    "#que.7 what do u understand about mutable & immutable datatypes and give it with examples."
   ]
  },
  {
   "cell_type": "code",
   "execution_count": 14,
   "id": "9887deff-c1b9-470e-9d65-03045bb21706",
   "metadata": {},
   "outputs": [
    {
     "data": {
      "text/plain": [
       "'H'"
      ]
     },
     "execution_count": 14,
     "metadata": {},
     "output_type": "execute_result"
    }
   ],
   "source": [
    "m = 'Hello Everyone'\n",
    "\n",
    "m[0]\n"
   ]
  },
  {
   "cell_type": "code",
   "execution_count": 17,
   "id": "5ccf592c-8aec-4294-9f7d-8f7cd0e13257",
   "metadata": {},
   "outputs": [
    {
     "ename": "NameError",
     "evalue": "name 'w' is not defined",
     "output_type": "error",
     "traceback": [
      "\u001b[0;31m---------------------------------------------------------------------------\u001b[0m",
      "\u001b[0;31mNameError\u001b[0m                                 Traceback (most recent call last)",
      "Cell \u001b[0;32mIn[17], line 1\u001b[0m\n\u001b[0;32m----> 1\u001b[0m m[\u001b[38;5;241m0\u001b[39m] \u001b[38;5;241m=\u001b[39m \u001b[43mw\u001b[49m\n",
      "\u001b[0;31mNameError\u001b[0m: name 'w' is not defined"
     ]
    }
   ],
   "source": [
    "m[0] = w    #in string we cant change data at particular index.so here string is immutable object."
   ]
  },
  {
   "cell_type": "code",
   "execution_count": 2,
   "id": "b06a2100-8371-4f7a-a34f-45fd176cf84b",
   "metadata": {},
   "outputs": [
    {
     "data": {
      "text/plain": [
       "'o'"
      ]
     },
     "execution_count": 2,
     "metadata": {},
     "output_type": "execute_result"
    }
   ],
   "source": [
    "m[4]"
   ]
  },
  {
   "cell_type": "code",
   "execution_count": 3,
   "id": "2f51ebed-da73-4c2d-bd16-40bfc880e40e",
   "metadata": {},
   "outputs": [
    {
     "data": {
      "text/plain": [
       "'n'"
      ]
     },
     "execution_count": 3,
     "metadata": {},
     "output_type": "execute_result"
    }
   ],
   "source": [
    "m[-2]"
   ]
  },
  {
   "cell_type": "code",
   "execution_count": 4,
   "id": "abb69007-ce15-4826-a1ce-c375ead0f847",
   "metadata": {},
   "outputs": [
    {
     "data": {
      "text/plain": [
       "False"
      ]
     },
     "execution_count": 4,
     "metadata": {},
     "output_type": "execute_result"
    }
   ],
   "source": [
    "l = [2,3,4,True,False,4+5j,12.2,'switch']\n",
    "\n",
    "l[4]"
   ]
  },
  {
   "cell_type": "code",
   "execution_count": 5,
   "id": "340efc7a-4cfe-4623-83e0-5e51d34979ba",
   "metadata": {},
   "outputs": [
    {
     "data": {
      "text/plain": [
       "4"
      ]
     },
     "execution_count": 5,
     "metadata": {},
     "output_type": "execute_result"
    }
   ],
   "source": [
    "l[-6]"
   ]
  },
  {
   "cell_type": "code",
   "execution_count": null,
   "id": "ef69decd-a59b-4310-9954-17afede58a47",
   "metadata": {},
   "outputs": [],
   "source": [
    "#in which data type we can replace data by using index position is called mutable thats possible in list,while we can't change \n",
    "data in string by using index so its called immutable, so here string is immutable while list is mutable."
   ]
  },
  {
   "cell_type": "code",
   "execution_count": 9,
   "id": "d73928aa-5c72-4376-b94b-9b51e6762324",
   "metadata": {},
   "outputs": [],
   "source": [
    "l[1] = True    #like here we repace the data from index 1 "
   ]
  },
  {
   "cell_type": "code",
   "execution_count": 10,
   "id": "85a9f6d7-3c21-4373-a49b-b3567126a024",
   "metadata": {},
   "outputs": [
    {
     "data": {
      "text/plain": [
       "[2, True, 4, True, False, (4+5j), 12.2, 'switch']"
      ]
     },
     "execution_count": 10,
     "metadata": {},
     "output_type": "execute_result"
    }
   ],
   "source": [
    "l"
   ]
  }
 ],
 "metadata": {
  "kernelspec": {
   "display_name": "Python 3 (ipykernel)",
   "language": "python",
   "name": "python3"
  },
  "language_info": {
   "codemirror_mode": {
    "name": "ipython",
    "version": 3
   },
   "file_extension": ".py",
   "mimetype": "text/x-python",
   "name": "python",
   "nbconvert_exporter": "python",
   "pygments_lexer": "ipython3",
   "version": "3.10.8"
  }
 },
 "nbformat": 4,
 "nbformat_minor": 5
}
