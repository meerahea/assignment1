{
 "cells": [
  {
   "cell_type": "code",
   "execution_count": null,
   "id": "f497b6e8-5679-45cc-9e3f-3da51882d283",
   "metadata": {},
   "outputs": [],
   "source": [
    "#que.1 how do u comment code in python? what are the different types of comments?"
   ]
  },
  {
   "cell_type": "code",
   "execution_count": 1,
   "id": "3ce1d94e-5d86-49d2-b14d-cd2872ae8364",
   "metadata": {},
   "outputs": [],
   "source": [
    "# in python generally we use '#' symbol for comment code. and there are three types of comments. 1. single line, \n",
    "# 2.multi line\n",
    "# 3.docstring comments."
   ]
  },
  {
   "cell_type": "code",
   "execution_count": null,
   "id": "80f36a86-47c7-4480-949f-76051ba466af",
   "metadata": {},
   "outputs": [],
   "source": [
    "#que.2 what are the variables in python?how do you declare and assign value to variables?"
   ]
  },
  {
   "cell_type": "code",
   "execution_count": null,
   "id": "7aa5f5fb-122a-4ee1-b9ed-d489fdaf102a",
   "metadata": {},
   "outputs": [],
   "source": [
    "#variable is just a name for assigning a object(value). we can assign the values(object) by just giving a variable name like\n",
    "name = 'meera' #here name is variable,in which we assign the string data type."
   ]
  },
  {
   "cell_type": "code",
   "execution_count": null,
   "id": "abae5f41-9807-4f28-85e1-33e4e080ab9c",
   "metadata": {},
   "outputs": [],
   "source": [
    "#que.3 how do u convert one data type to another in python?"
   ]
  },
  {
   "cell_type": "code",
   "execution_count": null,
   "id": "084ec488-0ef6-4b1b-8932-33bf665be0b3",
   "metadata": {},
   "outputs": [],
   "source": [
    "# here first of all we would know the type of data then we can change the data type by using several built in functions\n",
    "# like int(x[,base]) , float(x), str(x), tuple(x) , list(x) .according to data type of x here we can covert data to integer,\n",
    "# float,string,tuple and list.\n"
   ]
  },
  {
   "cell_type": "code",
   "execution_count": null,
   "id": "249ec4f7-cf30-46dc-a620-ac0471f6cc54",
   "metadata": {},
   "outputs": [],
   "source": [
    "#que.4 how do u write and execute a python script from the command line?"
   ]
  },
  {
   "cell_type": "code",
   "execution_count": null,
   "id": "b43a0d92-af5f-4345-8345-c43725faab3e",
   "metadata": {},
   "outputs": [],
   "source": [
    "#first of all open command line and type in the word python,followed by the path to python script like\n",
    " # python3 hello.py hello world!\n",
    "    \n",
    " # python first_script.py hello world!\n"
   ]
  },
  {
   "cell_type": "code",
   "execution_count": null,
   "id": "3a59d4c8-84d6-414d-afd4-bfb65b1e4ecc",
   "metadata": {},
   "outputs": [],
   "source": [
    "#que.5 given a list my_list = [1,2,3,4,5] write the code to slice the list and obtain the sub_list[2,3]"
   ]
  },
  {
   "cell_type": "code",
   "execution_count": 20,
   "id": "611735a7-697d-45f4-ab5d-099405970899",
   "metadata": {},
   "outputs": [],
   "source": [
    "my_list = [1,2,3,4,5]"
   ]
  },
  {
   "cell_type": "code",
   "execution_count": 22,
   "id": "69521f86-c588-48c8-9ac1-beaacc406707",
   "metadata": {},
   "outputs": [
    {
     "name": "stdout",
     "output_type": "stream",
     "text": [
      "[2, 3]\n"
     ]
    }
   ],
   "source": [
    "sub_list = print(my_list[1:3])"
   ]
  },
  {
   "cell_type": "code",
   "execution_count": null,
   "id": "eca02413-fba9-408c-ae4b-67f35e9fb9eb",
   "metadata": {},
   "outputs": [],
   "source": [
    "#que.6 what is a complex number in math and how it is reprented in python?"
   ]
  },
  {
   "cell_type": "code",
   "execution_count": 2,
   "id": "83b01687-35b6-408a-8562-78e64ea7caf0",
   "metadata": {},
   "outputs": [
    {
     "data": {
      "text/plain": [
       "complex"
      ]
     },
     "execution_count": 2,
     "metadata": {},
     "output_type": "execute_result"
    }
   ],
   "source": [
    "# A complex number in maths is combination of real number and imaginary number.\n",
    "# in the way of such some like 3+4j,here 3 is real number and 4 is a imginary number.\n",
    "n = 3+4j\n",
    "type(n)\n"
   ]
  },
  {
   "cell_type": "code",
   "execution_count": 4,
   "id": "dd829f55-7c5b-4fa5-849b-6cb7912c4728",
   "metadata": {},
   "outputs": [
    {
     "data": {
      "text/plain": [
       "3.0"
      ]
     },
     "execution_count": 4,
     "metadata": {},
     "output_type": "execute_result"
    }
   ],
   "source": [
    "n.real"
   ]
  },
  {
   "cell_type": "code",
   "execution_count": 6,
   "id": "11e4e529-eae5-4441-9003-3d81317f2f09",
   "metadata": {},
   "outputs": [
    {
     "data": {
      "text/plain": [
       "4.0"
      ]
     },
     "execution_count": 6,
     "metadata": {},
     "output_type": "execute_result"
    }
   ],
   "source": [
    "n.imag"
   ]
  },
  {
   "cell_type": "code",
   "execution_count": null,
   "id": "b249fbb1-c5b0-4b8d-bb72-406469547818",
   "metadata": {},
   "outputs": [],
   "source": [
    "# que.7 what is the correct way to declare a variable named age and assign the values to it 25."
   ]
  },
  {
   "cell_type": "code",
   "execution_count": 7,
   "id": "c30d96c3-277e-447c-975b-8e37cef20cb7",
   "metadata": {},
   "outputs": [],
   "source": [
    "age = 25"
   ]
  },
  {
   "cell_type": "code",
   "execution_count": null,
   "id": "b261dbd0-c047-41cb-9eea-53484f0b99fa",
   "metadata": {},
   "outputs": [],
   "source": [
    "#que.8 declare a variable named price and assign the value 9.99 to it. what data types does this var. belongs to?"
   ]
  },
  {
   "cell_type": "code",
   "execution_count": 8,
   "id": "05089b86-c8a8-4054-8fc3-d38c44974ef7",
   "metadata": {},
   "outputs": [],
   "source": [
    "price = 9.99"
   ]
  },
  {
   "cell_type": "code",
   "execution_count": 9,
   "id": "f080e33c-aaf1-4fcd-b340-14912fa8ff13",
   "metadata": {},
   "outputs": [
    {
     "data": {
      "text/plain": [
       "float"
      ]
     },
     "execution_count": 9,
     "metadata": {},
     "output_type": "execute_result"
    }
   ],
   "source": [
    "type(price)"
   ]
  },
  {
   "cell_type": "code",
   "execution_count": null,
   "id": "75f7915e-3f60-4943-ba58-6b7edbc38cc0",
   "metadata": {},
   "outputs": [],
   "source": [
    "#so,here the type of data is float."
   ]
  },
  {
   "cell_type": "code",
   "execution_count": null,
   "id": "571aec0e-65d0-4242-a591-50003dc3500e",
   "metadata": {},
   "outputs": [],
   "source": [
    "#que.9 create a variable named name and assign your full name to it as a string how would u print the value\n",
    "#of this variable"
   ]
  },
  {
   "cell_type": "code",
   "execution_count": 1,
   "id": "fd2f5a64-34db-4503-b5a0-b9885f6fae1d",
   "metadata": {},
   "outputs": [],
   "source": [
    "name = 'MEERA KUKADIYA SHASHIKANTBHAI'"
   ]
  },
  {
   "cell_type": "code",
   "execution_count": 2,
   "id": "773a509b-45cc-431c-9096-a474e1659603",
   "metadata": {},
   "outputs": [
    {
     "name": "stdout",
     "output_type": "stream",
     "text": [
      "MEERA KUKADIYA SHASHIKANTBHAI\n"
     ]
    }
   ],
   "source": [
    "print(name)"
   ]
  },
  {
   "cell_type": "code",
   "execution_count": null,
   "id": "e57bdfd0-5e3b-4393-a821-37e1bdd6628f",
   "metadata": {},
   "outputs": [],
   "source": [
    "#que.10 given the string 'Hello world!'.extract the string 'world!'."
   ]
  },
  {
   "cell_type": "code",
   "execution_count": 13,
   "id": "0f94b136-ea3c-4d52-b274-f85b65a79325",
   "metadata": {},
   "outputs": [],
   "source": [
    "s = 'Hello World'"
   ]
  },
  {
   "cell_type": "code",
   "execution_count": 16,
   "id": "eb6d6a33-578a-4a25-803f-a2edb413c45c",
   "metadata": {},
   "outputs": [
    {
     "name": "stdout",
     "output_type": "stream",
     "text": [
      "World\n"
     ]
    }
   ],
   "source": [
    "sub_s = print(s[6:11])"
   ]
  },
  {
   "cell_type": "code",
   "execution_count": null,
   "id": "bab07921-97b7-43a1-909d-4c52ee049d30",
   "metadata": {},
   "outputs": [],
   "source": [
    "#que.11 create a variable named 'is_student' and assign it a boolean value indicating whether you are currently\n",
    "# a student or not."
   ]
  },
  {
   "cell_type": "code",
   "execution_count": 10,
   "id": "b4411ef9-7e15-4e61-8050-4ffde039827b",
   "metadata": {},
   "outputs": [],
   "source": [
    "is_student = True"
   ]
  }
 ],
 "metadata": {
  "kernelspec": {
   "display_name": "Python 3 (ipykernel)",
   "language": "python",
   "name": "python3"
  },
  "language_info": {
   "codemirror_mode": {
    "name": "ipython",
    "version": 3
   },
   "file_extension": ".py",
   "mimetype": "text/x-python",
   "name": "python",
   "nbconvert_exporter": "python",
   "pygments_lexer": "ipython3",
   "version": "3.10.8"
  }
 },
 "nbformat": 4,
 "nbformat_minor": 5
}
