{
 "cells": [
  {
   "cell_type": "markdown",
   "id": "e00a75d3-9e25-4544-8556-406e4001611d",
   "metadata": {},
   "source": [
    "Que.1 What is multiprocessing in python? Why is it useful?"
   ]
  },
  {
   "cell_type": "code",
   "execution_count": null,
   "id": "19588179-cbcb-4280-85ad-aa5a26249954",
   "metadata": {},
   "outputs": [],
   "source": [
    "'''Multiprocessing refers to the ability of a system to support more than one processor at the same time.\n",
    "Applications in a multiprocessing system are broken to smaller routines that run independently. The operating \n",
    "system allocates these threads to the processors improving performance of the system.\n",
    "Multiprocessing is useful for CPU-bound processes, such as computationally heavy tasks since it will benefit from having\n",
    "multiple processors; similar to how multicore computers work faster than computers with a single core."
   ]
  },
  {
   "cell_type": "markdown",
   "id": "4d1f153e-c460-4ab0-8483-0280f0ab5d78",
   "metadata": {},
   "source": [
    "Que.2 What are the differences between multiprocessing and multithreading?"
   ]
  },
  {
   "cell_type": "code",
   "execution_count": null,
   "id": "ccf3c8ba-3f86-4c52-8869-c6e7bdfd46fc",
   "metadata": {},
   "outputs": [],
   "source": [
    "'''By formal definition, multithreading refers to the ability of a processor to execute multiple threads concurrently,\n",
    "where each thread runs a process. Whereas multiprocessing refers to the ability of a system to run multiple processors in \n",
    "parallel, where each processor can run one or more threads.\n",
    "Multithreading is useful for IO-bound processes, such as reading files from a network or database since each thread can run\n",
    "the IO-bound process concurrently. Multiprocessing is useful for CPU-bound processes, such as computationally heavy tasks \n",
    "since it will benefit from having multiple processors; similar to how multicore computers work faster than computers with \n",
    "a single core.\n",
    "In multithreading task execute concurrently,while multiprocessing task exectue in parallel process."
   ]
  },
  {
   "cell_type": "markdown",
   "id": "7da3c462-5884-492e-a955-edb276ecd1b7",
   "metadata": {},
   "source": [
    "Que.3 Write a python code to create a process using the multiprocessing module."
   ]
  },
  {
   "cell_type": "code",
   "execution_count": 9,
   "id": "49fc39cf-ccc2-48d8-998b-22e21ea7c63d",
   "metadata": {},
   "outputs": [
    {
     "name": "stdout",
     "output_type": "stream",
     "text": [
      "Square: 100\n",
      "Cube: 1000\n",
      "done\n"
     ]
    }
   ],
   "source": [
    "#import multiprocessing module\n",
    "import multiprocessing\n",
    "\n",
    "##function to print Square of given num\n",
    "def print_square(num):\n",
    "   \n",
    "    print(\"Square: {}\".format(num*num))\n",
    "    \n",
    "#function to print cube of given num\n",
    "def print_cube(num):\n",
    "    \n",
    "    print(\"Cube: {}\".format(num*num*num))\n",
    "    \n",
    "if __name__ == \"__main__\":\n",
    "   # creating processes\n",
    "    p1 = multiprocessing.Process(target=print_square,args=(10, ))\n",
    "    p2 = multiprocessing.Process(target=print_cube,args=(10, ))\n",
    "    \n",
    "#starting the process 1 and 2\n",
    "p1.start()\n",
    "p2.start()\n",
    "\n",
    "\n",
    "#wait untill the process finished\n",
    "p1.join()\n",
    "p2.join()\n",
    "\n",
    "#both process finished\n",
    "print(\"done\")\n",
    "    "
   ]
  },
  {
   "cell_type": "markdown",
   "id": "e61e117d-bd14-4a42-bc1e-209c4a613eb1",
   "metadata": {},
   "source": [
    "Que.4 What is a multiprocessing pool in python? Why is it used?"
   ]
  },
  {
   "cell_type": "code",
   "execution_count": null,
   "id": "256f8bfc-cb08-478b-97ce-649b174e23c6",
   "metadata": {},
   "outputs": [],
   "source": [
    "'''Python multiprocessing Pool can be used for parallel execution of a function across multiple input values, distributing \n",
    "the input data across processes (data parallelism).\n",
    "In operating systems, to improve the performance of more than one CPU can be used within one computer system called \n",
    "Multiprocessor operating system. Multiple CPUs are interconnected so that a job can be divided among them for faster\n",
    "execution.that is the main reason to use multiprocessing.'''"
   ]
  },
  {
   "cell_type": "markdown",
   "id": "20e78a40-4af7-4e51-9dea-4f5d1256a2db",
   "metadata": {},
   "source": [
    "Que.5 How can we create a pool of worker processes in python using the multiprocessing module?"
   ]
  },
  {
   "cell_type": "code",
   "execution_count": 5,
   "id": "d9a081a3-621a-4d3f-9cc4-81b281723877",
   "metadata": {},
   "outputs": [
    {
     "name": "stdout",
     "output_type": "stream",
     "text": [
      "[2, 4, 6, 8, 10]\n"
     ]
    }
   ],
   "source": [
    "from multiprocessing import Pool\n",
    "def process(data):\n",
    "    result = data * 2\n",
    "    return result\n",
    "\n",
    "if __name__ == \"__main__\":\n",
    "    num_processes = 4\n",
    "    pool = Pool(processes=num_processes)\n",
    "    \n",
    "    input_data = [1,2,3,4,5]\n",
    "    results = pool.map(process,input_data)\n",
    "    \n",
    "    pool.close()\n",
    "    pool.join()\n",
    "    \n",
    "    \n",
    "    print(results)"
   ]
  },
  {
   "cell_type": "markdown",
   "id": "d02a0b1c-966b-469c-bd79-d892281734de",
   "metadata": {},
   "source": [
    "Que.6 Write a python program to create 4 processes, each process should print a different number using the\n",
    "multiprocessing module in python."
   ]
  },
  {
   "cell_type": "code",
   "execution_count": 7,
   "id": "aa13a025-21b9-45ca-b7fe-77cdfe3f7b50",
   "metadata": {},
   "outputs": [
    {
     "name": "stdout",
     "output_type": "stream",
     "text": [
      "Process0:Hello from process0!\n",
      "Process1:Hello from process1!\n",
      "Process2:Hello from process2!\n",
      "Process3:Hello from process3!\n"
     ]
    }
   ],
   "source": [
    "import multiprocessing\n",
    "\n",
    "def print_numbers(number):\n",
    "    print(f\"Process{number}:Hello from process{number}!\")\n",
    "    \n",
    "if __name__ ==\"__main__\":\n",
    "    processes = []\n",
    "    \n",
    "    for i in range(4):\n",
    "        process = multiprocessing.Process(target=print_numbers,args=(i,))\n",
    "        processes.append(process)\n",
    "        process.start()\n",
    "        \n",
    "    for process in processes:\n",
    "        process.join()\n",
    "        "
   ]
  }
 ],
 "metadata": {
  "kernelspec": {
   "display_name": "Python 3 (ipykernel)",
   "language": "python",
   "name": "python3"
  },
  "language_info": {
   "codemirror_mode": {
    "name": "ipython",
    "version": 3
   },
   "file_extension": ".py",
   "mimetype": "text/x-python",
   "name": "python",
   "nbconvert_exporter": "python",
   "pygments_lexer": "ipython3",
   "version": "3.10.8"
  }
 },
 "nbformat": 4,
 "nbformat_minor": 5
}
