{
 "cells": [
  {
   "cell_type": "code",
   "execution_count": null,
   "id": "4d8d90fc-9fdb-451d-bace-ed45dfeb1b13",
   "metadata": {},
   "outputs": [],
   "source": [
    "#Que.1 Create a vehicle class with an init method having instance variables as name_of_vehicle, max_speed\n",
    "#and average_of_vehicle."
   ]
  },
  {
   "cell_type": "code",
   "execution_count": 1,
   "id": "dbc378c5-70ec-4b19-bfea-e29c4b3f6756",
   "metadata": {},
   "outputs": [],
   "source": [
    "class vehicle:\n",
    "    def __init__(self,name_of_vehicle,max_speed,average_of_vehicle):\n",
    "        self.name_of_vehicle = name_of_vehicle\n",
    "        self.max_speed = max_speed\n",
    "        self.average_of_vehicle = average_of_vehicle\n",
    "        "
   ]
  },
  {
   "cell_type": "code",
   "execution_count": 41,
   "id": "a1707889-0a3d-40f5-a901-2a064c93ddc8",
   "metadata": {},
   "outputs": [],
   "source": [
    "v = vehicle('toyota',80,60)"
   ]
  },
  {
   "cell_type": "code",
   "execution_count": 3,
   "id": "a86695ba-4071-45a9-9c02-ddc9923d1cdd",
   "metadata": {},
   "outputs": [
    {
     "data": {
      "text/plain": [
       "60"
      ]
     },
     "execution_count": 3,
     "metadata": {},
     "output_type": "execute_result"
    }
   ],
   "source": [
    "v.average_of_vehicle"
   ]
  },
  {
   "cell_type": "code",
   "execution_count": 4,
   "id": "49b34775-c50a-4d5b-8a69-8a5f238fff03",
   "metadata": {},
   "outputs": [
    {
     "data": {
      "text/plain": [
       "80"
      ]
     },
     "execution_count": 4,
     "metadata": {},
     "output_type": "execute_result"
    }
   ],
   "source": [
    "v.max_speed"
   ]
  },
  {
   "cell_type": "code",
   "execution_count": 5,
   "id": "a0aaba21-45a2-411f-9d95-6220b4e1b885",
   "metadata": {},
   "outputs": [
    {
     "data": {
      "text/plain": [
       "'toyota'"
      ]
     },
     "execution_count": 5,
     "metadata": {},
     "output_type": "execute_result"
    }
   ],
   "source": [
    "v.name_of_vehicle"
   ]
  },
  {
   "cell_type": "code",
   "execution_count": null,
   "id": "89072400-7faf-43e9-b4c1-78ca0281277f",
   "metadata": {},
   "outputs": [],
   "source": [
    "#Que.2Create a child class car from the vehicle class created in Que 1, which will inherit the vehicle class.\n",
    "#Create a method named seating_capacity which takes capacity as an argument and returns the name of\n",
    "#the vehicle and its seating capacity."
   ]
  },
  {
   "cell_type": "code",
   "execution_count": 11,
   "id": "319682a6-dcf1-4ee6-b34e-7bbc65419542",
   "metadata": {},
   "outputs": [],
   "source": [
    "class vehicle:\n",
    "    def __init__(self,name_of_vehicle,max_speed,average_of_vehicle):\n",
    "        self.name_of_vehicle = name_of_vehicle\n",
    "        self.max_speed = max_speed\n",
    "        self.average_of_vehicle = average_of_vehicle\n",
    "        \n",
    "class car(vehicle):\n",
    "    def __init__(self, name_of_vehicle, max_speed, average_of_vehicle):\n",
    "        super().__init__(name_of_vehicle, max_speed, average_of_vehicle)\n",
    "    def seating_capacity(self, capacity):\n",
    "        return f\"The {self.name_of_vehicle} has a seating capacity of {capacity}.\"\n",
    "\n",
    "    \n",
    "\n"
   ]
  },
  {
   "cell_type": "code",
   "execution_count": 12,
   "id": "7a6ad4a6-2695-4e3f-bba0-cbeef2f75c47",
   "metadata": {},
   "outputs": [],
   "source": [
    "my_car = car(\"ford\", 56, 23)"
   ]
  },
  {
   "cell_type": "code",
   "execution_count": 13,
   "id": "43202f88-27b1-4814-ab96-1ac451fa987e",
   "metadata": {},
   "outputs": [
    {
     "data": {
      "text/plain": [
       "'The ford has a seating capacity of 4.'"
      ]
     },
     "execution_count": 13,
     "metadata": {},
     "output_type": "execute_result"
    }
   ],
   "source": [
    "my_car.seating_capacity(4)"
   ]
  },
  {
   "cell_type": "code",
   "execution_count": null,
   "id": "de7e46e3-e6b3-4cdd-9110-39af21ebc96d",
   "metadata": {},
   "outputs": [],
   "source": [
    "#Que.3What is multiple inheritance? Write a python code to demonstrate multiple inheritance."
   ]
  },
  {
   "cell_type": "code",
   "execution_count": null,
   "id": "a3fa60d9-a2b4-4bab-a56f-dff2192df341",
   "metadata": {},
   "outputs": [],
   "source": [
    "'''A class can be derived from more than one superclass in Python is called multiple inheritance'''"
   ]
  },
  {
   "cell_type": "code",
   "execution_count": 29,
   "id": "c82fb929-2ea1-43d8-88ad-f7956ef9f452",
   "metadata": {},
   "outputs": [],
   "source": [
    "class class1:                \n",
    "    def test_class1(self):\n",
    "        return'this is a method for class1.'"
   ]
  },
  {
   "cell_type": "code",
   "execution_count": 30,
   "id": "9ea0e6c8-6a9c-4741-b123-41b0a750c9c5",
   "metadata": {},
   "outputs": [],
   "source": [
    "class class2:\n",
    "    def test_class2(self):\n",
    "        return'this is a method for class2.'"
   ]
  },
  {
   "cell_type": "code",
   "execution_count": 32,
   "id": "e9f2ac43-a87c-4760-8fd3-68630d8ecc92",
   "metadata": {},
   "outputs": [],
   "source": [
    "class class3(class1,class2): #here class 3 inheritance the property of class1 ans class2.\n",
    "    pass"
   ]
  },
  {
   "cell_type": "code",
   "execution_count": 33,
   "id": "115cc876-057b-4d60-bbeb-12c703aafb7f",
   "metadata": {},
   "outputs": [],
   "source": [
    "obj_class3 = class3()"
   ]
  },
  {
   "cell_type": "code",
   "execution_count": 34,
   "id": "4f0df22b-53ff-4211-80fa-e0f9c3cbad22",
   "metadata": {},
   "outputs": [
    {
     "data": {
      "text/plain": [
       "'this is a method for class1.'"
      ]
     },
     "execution_count": 34,
     "metadata": {},
     "output_type": "execute_result"
    }
   ],
   "source": [
    "obj_class3.test_class1()"
   ]
  },
  {
   "cell_type": "code",
   "execution_count": 35,
   "id": "04304b3e-03e2-42c3-885e-b606335dcd80",
   "metadata": {},
   "outputs": [
    {
     "data": {
      "text/plain": [
       "'this is a method for class2.'"
      ]
     },
     "execution_count": 35,
     "metadata": {},
     "output_type": "execute_result"
    }
   ],
   "source": [
    "obj_class3.test_class2()"
   ]
  },
  {
   "cell_type": "code",
   "execution_count": null,
   "id": "4ca74fe9-a174-45f8-a309-bb68b9faca78",
   "metadata": {},
   "outputs": [],
   "source": [
    "#Que.4What are getter and setter in python? Create a class and create a getter and a setter method in this\n",
    "#class."
   ]
  },
  {
   "cell_type": "code",
   "execution_count": null,
   "id": "5cbbe186-dbe3-4811-b725-b8604e32466d",
   "metadata": {},
   "outputs": [],
   "source": [
    "''''getter and setter are a work as a paramters to return property attributes of a class.'''"
   ]
  },
  {
   "cell_type": "code",
   "execution_count": 9,
   "id": "d8b2052c-7a07-4728-ac3f-97de61c899c1",
   "metadata": {},
   "outputs": [],
   "source": [
    "class pwskills:\n",
    "    \n",
    "    def __init__(self,course_price,course_name):\n",
    "        self.__course_price = course_price\n",
    "        self.course_name = course_name\n",
    "        \n",
    "    @property\n",
    "    def course_price_access(self):\n",
    "        return self.__course_price\n",
    "    \n",
    "    @course_price_access.setter\n",
    "    def course_price_set(self,price):\n",
    "        if price <= 5000 :\n",
    "            pass\n",
    "        else :\n",
    "            self.__course_price = price"
   ]
  },
  {
   "cell_type": "code",
   "execution_count": 2,
   "id": "2ced3459-0df7-4f77-a92c-3bdd3bc43621",
   "metadata": {},
   "outputs": [],
   "source": [
    "pw = pwskills(7000,'data structure and algorithems')"
   ]
  },
  {
   "cell_type": "code",
   "execution_count": 8,
   "id": "57cdf0d7-2d13-4f5d-9989-90937caa80dc",
   "metadata": {},
   "outputs": [
    {
     "data": {
      "text/plain": [
       "7000"
      ]
     },
     "execution_count": 8,
     "metadata": {},
     "output_type": "execute_result"
    }
   ],
   "source": [
    "pw.course_price_access ##by getter method in properties class"
   ]
  },
  {
   "cell_type": "code",
   "execution_count": 11,
   "id": "1e7b9fc9-dc6b-4dbd-8b44-157e6b12bda9",
   "metadata": {},
   "outputs": [],
   "source": [
    "pw.course_price_set=8000 ##by setter method in properties class"
   ]
  },
  {
   "cell_type": "code",
   "execution_count": 12,
   "id": "173771f5-3967-4811-8e15-655925aa9cca",
   "metadata": {},
   "outputs": [
    {
     "data": {
      "text/plain": [
       "8000"
      ]
     },
     "execution_count": 12,
     "metadata": {},
     "output_type": "execute_result"
    }
   ],
   "source": [
    "pw.course_price_access"
   ]
  },
  {
   "cell_type": "code",
   "execution_count": null,
   "id": "7101ad11-f14d-4169-b3d6-2fbdafc1898e",
   "metadata": {},
   "outputs": [],
   "source": [
    "#Que5.What is method overriding in python? Write a python code to demonstrate method overriding."
   ]
  },
  {
   "cell_type": "code",
   "execution_count": null,
   "id": "3283be92-3bc3-48a5-a337-c29077fdd82b",
   "metadata": {},
   "outputs": [],
   "source": [
    "'''Method overriding is an ability of any object-oriented programming language that allows a subclass or child class to\n",
    "provide a specific implementation of a method that is already provided by one of its super-classes or parent classes. "
   ]
  },
  {
   "cell_type": "code",
   "execution_count": 13,
   "id": "7be35041-f66a-4e7b-a488-339a51419f55",
   "metadata": {},
   "outputs": [],
   "source": [
    "class animal:\n",
    "    def speak(self):\n",
    "        return'An animal speaks.'"
   ]
  },
  {
   "cell_type": "code",
   "execution_count": 14,
   "id": "e7264d35-9dc5-4b5c-99f3-ff0efc67ef53",
   "metadata": {},
   "outputs": [],
   "source": [
    "class domestic_animal(animal):\n",
    "    def sleep(self):\n",
    "        return'A domestic animal sleeps.'"
   ]
  },
  {
   "cell_type": "code",
   "execution_count": 15,
   "id": "94cabdcc-0ae4-4924-b008-991fcdae57b8",
   "metadata": {},
   "outputs": [],
   "source": [
    "class dog(domestic_animal):  ##here we overridde the specific function implementation by using its super classes(animal)\n",
    "    pass"
   ]
  },
  {
   "cell_type": "code",
   "execution_count": 16,
   "id": "24595de0-dc3d-4644-91bf-4e4a780eb25f",
   "metadata": {},
   "outputs": [],
   "source": [
    "here = dog()"
   ]
  },
  {
   "cell_type": "code",
   "execution_count": 17,
   "id": "9079fd10-0c43-445a-a4ee-d9e4993e6f6a",
   "metadata": {},
   "outputs": [
    {
     "data": {
      "text/plain": [
       "'A domestic animal sleeps.'"
      ]
     },
     "execution_count": 17,
     "metadata": {},
     "output_type": "execute_result"
    }
   ],
   "source": [
    "here.sleep()"
   ]
  },
  {
   "cell_type": "code",
   "execution_count": 19,
   "id": "0df64c4a-6f38-4dbf-bf68-07e3c7dd12c2",
   "metadata": {},
   "outputs": [
    {
     "data": {
      "text/plain": [
       "'An animal speaks.'"
      ]
     },
     "execution_count": 19,
     "metadata": {},
     "output_type": "execute_result"
    }
   ],
   "source": [
    "here.speak()"
   ]
  }
 ],
 "metadata": {
  "kernelspec": {
   "display_name": "Python 3 (ipykernel)",
   "language": "python",
   "name": "python3"
  },
  "language_info": {
   "codemirror_mode": {
    "name": "ipython",
    "version": 3
   },
   "file_extension": ".py",
   "mimetype": "text/x-python",
   "name": "python",
   "nbconvert_exporter": "python",
   "pygments_lexer": "ipython3",
   "version": "3.10.8"
  }
 },
 "nbformat": 4,
 "nbformat_minor": 5
}
