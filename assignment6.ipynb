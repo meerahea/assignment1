{
 "cells": [
  {
   "cell_type": "code",
   "execution_count": null,
   "id": "e5e236c9-8954-484b-92e2-714257b31d57",
   "metadata": {},
   "outputs": [],
   "source": [
    "#Que.1 what is abstraction in OOps?Explain with an example."
   ]
  },
  {
   "cell_type": "code",
   "execution_count": null,
   "id": "81b13a69-2132-4712-a954-ef35edeee5c4",
   "metadata": {},
   "outputs": [],
   "source": [
    "'''An abstraction is core object-oriented programme,which process hiding the internal data and implementation from the outer \n",
    "world.\n",
    "There is a lots of abstraction example like some of them are vehicles,either it's car or bus.We dont know about the any \n",
    "procees that actually working in car but when we start the engine with our key its starts.'''"
   ]
  },
  {
   "cell_type": "code",
   "execution_count": null,
   "id": "9439fbaa-9d4f-4189-a15c-1c5e0382dba2",
   "metadata": {},
   "outputs": [],
   "source": [
    "#Que.2Difference between encapsulation and abstraction.Explain with an example."
   ]
  },
  {
   "cell_type": "code",
   "execution_count": null,
   "id": "23bd6029-4767-44c1-b699-64866d63b6e6",
   "metadata": {},
   "outputs": [],
   "source": [
    "'''Abstraction is a design level process,while encapsulation is an implementation level process.Abstraction is used to reduce \n",
    "the complexity at the designing stage of a project where Encapsulation is used to provide privacy and maintain control over \n",
    "the transparency of data at the implementation stage of a project.\n",
    "Example: Abstraction is used in mobile phones.When you click on the icons, abstraction allows them to perform specific \n",
    "functions.After the icon is clicked, the encapsulation works in the backend to guide the user on the next steps. '''"
   ]
  },
  {
   "cell_type": "code",
   "execution_count": null,
   "id": "212efd4c-8942-4c21-b312-8779049d17a3",
   "metadata": {},
   "outputs": [],
   "source": [
    "#Que.3What is abc module in python?why is it used?"
   ]
  },
  {
   "cell_type": "code",
   "execution_count": null,
   "id": "127322e9-1727-4ec2-9624-124ec30514ff",
   "metadata": {},
   "outputs": [],
   "source": [
    "'''Here abc stand for abstract base classes.this module provides the infrastructure for defining abstract base \n",
    "classes (ABCs) in Python.abc module is used for code reusability for particular class,its just like a blueprint.'''"
   ]
  },
  {
   "cell_type": "code",
   "execution_count": null,
   "id": "601011b6-665a-48e3-85c3-116d239b8e98",
   "metadata": {},
   "outputs": [],
   "source": [
    "#Que.4How can we achieve data abstraction?"
   ]
  },
  {
   "cell_type": "code",
   "execution_count": null,
   "id": "c15c8b8a-9fa8-4b79-b806-f459ef64fb30",
   "metadata": {},
   "outputs": [],
   "source": [
    "'''Data Abstraction in Python can be achieved through creating abstract classes or methods and inheriting them later. Data\n",
    "abstraction is a method where essential elements are displayed to the user and trivial elements are kept hidden.'''"
   ]
  },
  {
   "cell_type": "code",
   "execution_count": null,
   "id": "438f1b52-9925-471f-8114-124fb5441f2a",
   "metadata": {},
   "outputs": [],
   "source": [
    "#Que.5Can we create an instance of an abstract class?Explain your answer."
   ]
  },
  {
   "cell_type": "code",
   "execution_count": null,
   "id": "9c4d75ca-cab8-4733-80f5-9a8e0d0695d5",
   "metadata": {},
   "outputs": [],
   "source": [
    "'''Abstract classes are not complete, as they may have some methods that are not defined. So we cannot create an instance or \n",
    "object of an abstract class in Python,but they can be subclassed.the subclass usually provides implementations for all of \n",
    "the abstract methods in its parent class.'''"
   ]
  }
 ],
 "metadata": {
  "kernelspec": {
   "display_name": "Python 3 (ipykernel)",
   "language": "python",
   "name": "python3"
  },
  "language_info": {
   "codemirror_mode": {
    "name": "ipython",
    "version": 3
   },
   "file_extension": ".py",
   "mimetype": "text/x-python",
   "name": "python",
   "nbconvert_exporter": "python",
   "pygments_lexer": "ipython3",
   "version": "3.10.8"
  }
 },
 "nbformat": 4,
 "nbformat_minor": 5
}
