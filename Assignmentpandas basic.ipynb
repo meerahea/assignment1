{
 "cells": [
  {
   "cell_type": "markdown",
   "id": "cf80ad05-189e-45f4-ae5a-6b8415cfcea0",
   "metadata": {},
   "source": [
    "Que.1 Create a Pandas Series that contains the following data: 4, 8, 15, 16, 23, and 42. Then, print the series."
   ]
  },
  {
   "cell_type": "code",
   "execution_count": 1,
   "id": "07a1758f-8155-4ceb-b095-0047f5fb99a2",
   "metadata": {},
   "outputs": [
    {
     "name": "stdout",
     "output_type": "stream",
     "text": [
      "0     4\n",
      "1     8\n",
      "2    15\n",
      "3    16\n",
      "4    23\n",
      "5    42\n",
      "dtype: int64\n"
     ]
    }
   ],
   "source": [
    "import pandas as pd\n",
    "\n",
    "data = [4,8,15,16,23,42]\n",
    "\n",
    "series = pd.Series(data)\n",
    "\n",
    "print(series)"
   ]
  },
  {
   "cell_type": "markdown",
   "id": "94e77cad-e8e5-48de-9938-e7b6c3ab8fe4",
   "metadata": {},
   "source": [
    "Que.2 Create a variable of list type containing 10 elements in it, and apply pandas.Series function on the\n",
    "variable print it."
   ]
  },
  {
   "cell_type": "code",
   "execution_count": 3,
   "id": "660a1634-1bc3-43b7-9302-9c039eb1b654",
   "metadata": {},
   "outputs": [
    {
     "name": "stdout",
     "output_type": "stream",
     "text": [
      "0     1.0\n",
      "1     2.1\n",
      "2     3.0\n",
      "3     4.0\n",
      "4     5.0\n",
      "5     6.0\n",
      "6     7.8\n",
      "7     8.0\n",
      "8     9.0\n",
      "9    10.1\n",
      "dtype: float64\n"
     ]
    }
   ],
   "source": [
    "import pandas as pd\n",
    "list = [1,2.1,3,4,5,6,7.8,8,9,10.1]\n",
    "\n",
    "series = pd.Series(list)\n",
    "\n",
    "print(series)"
   ]
  },
  {
   "cell_type": "markdown",
   "id": "c9c81f1a-9902-4e3d-9dc5-3e93c93b1634",
   "metadata": {},
   "source": [
    "Que.3 Create a Pandas DataFrame that contains the following data:\n",
    "Then, print the DataFrame.\n",
    "    "
   ]
  },
  {
   "cell_type": "code",
   "execution_count": null,
   "id": "449e1191-1878-4b90-a78e-b552846b8605",
   "metadata": {},
   "outputs": [],
   "source": [
    "Name\n",
    "Alice\n",
    "Bob\n",
    "Claire\n",
    "\n",
    "Age\n",
    "25\n",
    "30\n",
    "27\n",
    "\n",
    "Gender\n",
    "Female\n",
    "Male\n",
    "Female"
   ]
  },
  {
   "cell_type": "code",
   "execution_count": 6,
   "id": "c174b78b-1fc9-46a2-baf4-3b18423aa029",
   "metadata": {},
   "outputs": [
    {
     "name": "stdout",
     "output_type": "stream",
     "text": [
      "     Name  Age  Gender\n",
      "0   Alice   25  Female\n",
      "1     Bob   30    Male\n",
      "2  Claire   27  Female\n"
     ]
    }
   ],
   "source": [
    "import pandas as pd\n",
    "data_frame = {\"Name\":[\"Alice\",\"Bob\",\"Claire\"], \"Age\":[25,30,27], \"Gender\":[\"Female\",\"Male\",\"Female\"]}\n",
    "\n",
    "df = pd.DataFrame(data_frame)\n",
    "\n",
    "print(df)"
   ]
  },
  {
   "cell_type": "markdown",
   "id": "917090eb-57db-4735-ab41-c265608482be",
   "metadata": {},
   "source": [
    "Que.4 What is ‘DataFrame’ in pandas and how is it different from pandas.series? Explain with an example."
   ]
  },
  {
   "cell_type": "code",
   "execution_count": null,
   "id": "6e912d2b-bca0-4000-8206-aca53bf934a4",
   "metadata": {},
   "outputs": [],
   "source": [
    "'''In pandas, a DataFrame is a two-dimensional labeled data structure that can store and manipulate data in tabular form,\n",
    "similar to a spreadsheet or a SQL table. It consists of rows and columns, where each column can contain different data types \n",
    "(e.g., integers, floats, strings) and is identified by a unique label.\n",
    "\n",
    "On the other hand, a Series is a one-dimensional labeled array that can hold data of any type. It is similar to a column in \n",
    "a DataFrame or a single column of data in a spreadsheet. Each element in a Series is assigned an index label that can be used\n",
    "to access the data."
   ]
  },
  {
   "cell_type": "code",
   "execution_count": 8,
   "id": "085a0ad6-bf10-426e-9ff2-c2e0165e6635",
   "metadata": {},
   "outputs": [
    {
     "name": "stdout",
     "output_type": "stream",
     "text": [
      "    Name  Age Country\n",
      "0   John   25     USA\n",
      "1   Emma   28  Canada\n",
      "2  Alice   22      UK\n"
     ]
    }
   ],
   "source": [
    "import pandas as pd\n",
    "\n",
    "# Creating a DataFrame\n",
    "data = {\n",
    "    'Name': ['John', 'Emma', 'Alice'],\n",
    "    'Age': [25, 28, 22],\n",
    "    'Country': ['USA', 'Canada', 'UK']\n",
    "}\n",
    "\n",
    "df = pd.DataFrame(data)\n",
    "print(df)"
   ]
  },
  {
   "cell_type": "code",
   "execution_count": 2,
   "id": "10100407-c954-4c75-a80c-693bbe89faa4",
   "metadata": {},
   "outputs": [
    {
     "name": "stdout",
     "output_type": "stream",
     "text": [
      "0    25\n",
      "1    28\n",
      "2    22\n",
      "dtype: int64\n"
     ]
    }
   ],
   "source": [
    "import pandas as pd\n",
    "# Creating a Series\n",
    "ages = pd.Series([25, 28, 22])\n",
    "print(ages)"
   ]
  },
  {
   "cell_type": "code",
   "execution_count": null,
   "id": "349ab1a7-cbb4-41fb-bdcc-7a902dde77a2",
   "metadata": {},
   "outputs": [],
   "source": [
    "'''that's are example of DataFrame and series accordingly.''' "
   ]
  },
  {
   "cell_type": "markdown",
   "id": "2411d74c-e238-47de-8e97-ddbc41cbd4d8",
   "metadata": {},
   "source": [
    "Que.5 What are some common functions you can use to manipulate data in a Pandas DataFrame? Can\n",
    "you give an example of when you might use one of these functions?"
   ]
  },
  {
   "cell_type": "code",
   "execution_count": null,
   "id": "a36189c1-0625-4ea5-be30-b66258005359",
   "metadata": {},
   "outputs": [],
   "source": [
    "'''Pandas provides a wide range of functions and methods to manipulate data in a DataFrame. Here are some common functions\n",
    "you can use:\n",
    "\n",
    "1) head() and tail(): These functions allow you to retrieve the first or last few rows of a DataFrame, respectively. They are\n",
    "often used to quickly inspect the data.\n",
    "# Example: Retrieving the first five rows of a DataFrame\n",
    "df.head()\n",
    "\n",
    "2) info(): This function provides a summary of the DataFrame, including the column names, data types, and memory usage. It is \n",
    "useful for understanding the structure of the DataFrame.\n",
    "\n",
    "3) describe(): This function generates descriptive statistics for numeric columns in the DataFrame, such as count, mean, \n",
    "standard deviation, minimum, maximum, and quartile values.\n",
    "\n",
    "4) shape: This attribute returns the dimensions (rows, columns) of the DataFrame.\n",
    "\n",
    "5) loc[] and iloc[]: These indexers allow you to access specific rows or columns in the DataFrame by label-based or integer\n",
    "-based indexing, respectively.\n",
    "\n",
    "6) drop(): This function allows you to remove rows or columns from the DataFrame based on specified labels.\n",
    "groupby(): This function is used for grouping the DataFrame based on one or more columns, allowing you to perform aggregate\n",
    "operations on the grouped data.\n",
    "\n",
    "7) sort_values(): This function sorts the DataFrame by one or more columns, either in ascending or descending order."
   ]
  },
  {
   "cell_type": "markdown",
   "id": "aa55c884-69cd-499b-862e-9e9c0afc1f19",
   "metadata": {},
   "source": [
    "Que.6 Which of the following is mutable in nature Series, DataFrame, Panel?"
   ]
  },
  {
   "cell_type": "code",
   "execution_count": null,
   "id": "e1f59659-00ff-4ccb-af63-99b38f229a74",
   "metadata": {},
   "outputs": [],
   "source": [
    "'''n the pandas library, the mutability of objects depends on whether they are intended to be modified after creation.\n",
    "\n",
    "Series: A pandas Series is mutable, meaning you can modify its values after creation. You can change specific values in \n",
    "a Series or add/remove values.\n",
    "\n",
    "DataFrame: A pandas DataFrame is also mutable. You can modify its contents, including adding or removing columns, updating\n",
    "values, or performing various operations on the data.\n",
    "\n",
    "Panel: In pandas, the Panel object has been deprecated since version 0.20. Panels were used to represent 3D data structures, \n",
    "but they have been replaced with the more flexible MultiIndexing approach. As of the latest version of pandas, the Panel object\n",
    "is not available, and MultiIndexing is preferred for working with higher-dimensional data.\n",
    "\n",
    "In summary, both Series and DataFrame objects are mutable, while the Panel object is deprecated and no longer part of the\n",
    "pandas library."
   ]
  },
  {
   "cell_type": "markdown",
   "id": "f95e4d9c-3b1b-4df9-bbc0-bcad20ab968d",
   "metadata": {},
   "source": [
    "Que.7 Create a DataFrame using multiple Series. Explain with an example."
   ]
  },
  {
   "cell_type": "code",
   "execution_count": 10,
   "id": "2e2050a6-93be-406a-83ca-daad150d0b83",
   "metadata": {},
   "outputs": [
    {
     "name": "stdout",
     "output_type": "stream",
     "text": [
      "  Quantity         Fruits Shop\n",
      "0        2          Apple    A\n",
      "1        3         Banana   Na\n",
      "2        5          Guava    A\n",
      "3        7  Custard Apple   Na\n"
     ]
    }
   ],
   "source": [
    "import pandas as pd\n",
    "\n",
    "#Create a first series\n",
    "series1 = pd.Series([2,3,5,7], name=\"Quantity\")\n",
    "\n",
    "#Create a second series\n",
    "series2 = pd.Series(['Apple','Banana','Guava','Custard Apple'],name= 'Fruits')\n",
    "\n",
    "#Create a third series\n",
    "series3 = pd.Series(['A','Na','A','Na'],name = 'Shop')\n",
    "\n",
    "#Combine the series into a dataframe\n",
    "df = pd.DataFrame([series1,series2,series3])\n",
    "\n",
    "# Transpose the DataFrame (optional, to have Series as columns)\n",
    "df = df.T\n",
    "\n",
    "#print a dataframe\n",
    "print(df)"
   ]
  },
  {
   "cell_type": "code",
   "execution_count": null,
   "id": "b7fd9097-2bde-4e8f-9e3d-82b5738a8b44",
   "metadata": {},
   "outputs": [],
   "source": [
    "'''In this example, we create three Series objects (series1, series2, and series3) representing different columns of data. \n",
    "We then combine these Series into a DataFrame using pd.DataFrame([series1, series2, series3]). Finally, we transpose the\n",
    "DataFrame using .T to have the Series as columns instead of rows.\n",
    "\n",
    "The resulting DataFrame contains three columns labeled 'A', 'B', and 'C', each corresponding to the data from the respective\n",
    "Series. The index values (0 to 4) are automatically generated by pandas.'''"
   ]
  }
 ],
 "metadata": {
  "kernelspec": {
   "display_name": "Python 3 (ipykernel)",
   "language": "python",
   "name": "python3"
  },
  "language_info": {
   "codemirror_mode": {
    "name": "ipython",
    "version": 3
   },
   "file_extension": ".py",
   "mimetype": "text/x-python",
   "name": "python",
   "nbconvert_exporter": "python",
   "pygments_lexer": "ipython3",
   "version": "3.10.8"
  }
 },
 "nbformat": 4,
 "nbformat_minor": 5
}
