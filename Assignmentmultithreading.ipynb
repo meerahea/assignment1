{
 "cells": [
  {
   "cell_type": "markdown",
   "id": "7e7d707b-b813-4d7f-9a26-680b9bf62dbe",
   "metadata": {},
   "source": [
    "Que.1 What is multithreading in python? Why is it used? Name the module used to handle threads in python."
   ]
  },
  {
   "cell_type": "code",
   "execution_count": null,
   "id": "b06034ad-6ebe-45b2-b3b6-7499ac058183",
   "metadata": {},
   "outputs": [],
   "source": [
    "'''Multithreading is defined as the ability of a processor to execute multiple threads concurrently. In a simple, single-core\n",
    "CPU, it is achieved using frequent switching between threads.\n",
    "While Python multithreading enables efficient utilization of the resources as the threads share the data space and memory.\n",
    "Multithreading in Python allows the concurrent and parallel occurrence of various tasks. It causes a reduction in time \n",
    "consumption or response time, thereby increasing the performance.\n",
    "\n",
    "Step 1: Import Module\n",
    "First, import the threading module.\n",
    "import threading\n",
    "\n",
    "Step 2: Create a Thread\n",
    "To create a new thread, we create an object of the Thread class. It takes the ‘target’ and ‘args’ as the parameters. The target\n",
    "is the function to be executed by the thread whereas the args is the arguments to be passed to the target function.\n",
    "t1 = threading.Thread(target, args)\n",
    "t2 = threading.Thread(target, args)\n",
    "\n",
    "Step 3: Start a Thread\n",
    "To start a thread, we use the start() method of the Thread class.\n",
    "t1.start()\n",
    "t2.start()\n",
    "\n",
    "Step 4: End the thread Execution\n",
    "Once the threads start, the current program (you can think of it like a main thread) also keeps on executing. In order to stop\n",
    "the execution of the current program until a thread is complete, we use the join() method.\n",
    "t1.join()\n",
    "t2.join()\n",
    "As a result, the current program will first wait for the completion of t1 and then t2. Once, they are finished, the remaining\n",
    "statements of the current program are executed.\n"
   ]
  },
  {
   "cell_type": "markdown",
   "id": "4631cdf0-49c0-49e6-8005-2a5001b19ba5",
   "metadata": {},
   "source": [
    "Que.2 Why threading module used? Write the use of the following functions:\n",
    " 1) activeCount()\n",
    " 2) currentThread()\n",
    " 3) enumerate()"
   ]
  },
  {
   "cell_type": "code",
   "execution_count": null,
   "id": "fa6aa053-5803-4939-99a5-b653384e1b48",
   "metadata": {},
   "outputs": [],
   "source": [
    "'''threading module is used for creating, controlling and managing threads in python,to increase the performance of process.\n",
    "\n",
    "threading.activeCount() − Returns the number of thread objects that are active.\n",
    "\n",
    "threading.currentThread() − Returns the number of thread objects in the caller's thread control.\n",
    "\n",
    "threading.enumerate() − Returns a list of all thread objects that are currently active."
   ]
  },
  {
   "cell_type": "markdown",
   "id": "8b1cec53-be26-4e65-84a9-ccf79ba740f2",
   "metadata": {},
   "source": [
    "Que.3 Explain the following functions\n",
    "1) run()\n",
    "2) start()\n",
    "3) join()\n",
    "4) isAlive()"
   ]
  },
  {
   "cell_type": "code",
   "execution_count": null,
   "id": "6d08762b-4039-44b4-bb38-b0f1d6c92965",
   "metadata": {},
   "outputs": [],
   "source": [
    "'''These are the methods provide by thread class \n",
    "1) run()  − The run() method is the entry point for a thread.\n",
    "2) start()  − The start() method starts a thread by calling the run method.\n",
    "3) join()  − The join() waits for threads to terminate.\n",
    "4) isAlive()  − The isAlive() method checks whether a thread is still executing."
   ]
  },
  {
   "cell_type": "markdown",
   "id": "7ea3ba2e-21cd-4c74-a263-a2e8b733dd26",
   "metadata": {},
   "source": [
    "Que.4 Write a python program to create two threads. Thread one must print the list of squares and thread\n",
    "two must print the list of cubes."
   ]
  },
  {
   "cell_type": "code",
   "execution_count": 6,
   "id": "9ea57dc7-7769-41ea-8bc0-24d97f31d881",
   "metadata": {},
   "outputs": [
    {
     "name": "stdout",
     "output_type": "stream",
     "text": [
      "1\n",
      "4\n",
      "9\n",
      "16\n",
      "25\n",
      "36\n",
      "49\n",
      "64\n",
      "81\n",
      "100\n",
      "1\n",
      "8\n",
      "27\n",
      "64\n",
      "125\n",
      "216\n",
      "343\n",
      "512\n",
      "729\n",
      "1000\n"
     ]
    }
   ],
   "source": [
    "import threading\n",
    "# Function to print the list of squares\n",
    "def print_squares():\n",
    "    squares = [num ** 2 for num in range(1, 11)]\n",
    "    for x in squares:\n",
    "        print(x)\n",
    "\n",
    "# Function to print the list of cubes\n",
    "def print_cubes():\n",
    "    cubes = [num ** 3 for num in range(1, 11)]\n",
    "    for y in cubes:\n",
    "        print(y)\n",
    "\n",
    "# Create the first thread for printing squares\n",
    "thread1 = threading.Thread(target=print_squares)\n",
    "# Create the second thread for printing cubes\n",
    "thread2 = threading.Thread(target=print_cubes)\n",
    "\n",
    "# Start both threads\n",
    "thread1.start()\n",
    "thread2.start()\n",
    "\n",
    "# Wait for both threads to finish\n",
    "thread1.join()\n",
    "thread2.join()"
   ]
  },
  {
   "cell_type": "code",
   "execution_count": 13,
   "id": "0ce27b55-34be-43f7-9e10-823a80451571",
   "metadata": {},
   "outputs": [
    {
     "name": "stdout",
     "output_type": "stream",
     "text": [
      "Square: 100\n",
      "Cube: 1000\n",
      "Done!\n"
     ]
    }
   ],
   "source": [
    "# Python program to illustrate the concept\n",
    "# of threading\n",
    "# importing the threading module\n",
    "import threading\n",
    " \n",
    "    \n",
    "def print_cube(num):\n",
    "    # function to print cube of given num\n",
    "    print(\"Cube: {}\" .format(num * num * num))\n",
    " \n",
    " \n",
    "def print_square(num):\n",
    "    # function to print square of given num\n",
    "    print(\"Square: {}\" .format(num * num))\n",
    " \n",
    " \n",
    "if __name__ ==\"__main__\":\n",
    "    # creating thread\n",
    "    t1 = threading.Thread(target=print_square, args=(10,))\n",
    "    t2 = threading.Thread(target=print_cube, args=(10,))\n",
    "                           \n",
    "\n",
    " \n",
    "    # starting thread 1 and 2\n",
    "    t1.start()\n",
    "    t2.start()\n",
    " \n",
    "    # wait until both threads are completely executed\n",
    "    t1.join()\n",
    "    t2.join()\n",
    " \n",
    "    # both threads completely executed\n",
    "    print(\"Done!\")"
   ]
  },
  {
   "cell_type": "markdown",
   "id": "5ce62f09-fc42-4485-9aac-b51fc58eac63",
   "metadata": {},
   "source": [
    "Que.5 State advantages and disadvantages of multithreading."
   ]
  },
  {
   "cell_type": "code",
   "execution_count": null,
   "id": "1a26af6c-f5d9-4a30-815c-8efa34eba262",
   "metadata": {},
   "outputs": [],
   "source": [
    "'''Following are some of the common advantages of multithreading:\n",
    "Enhanced performance by decreased development time.\n",
    "Simplified and streamlined program coding.\n",
    "Improvised GUI responsiveness.\n",
    "Simultaneous and parallelized occurrence of tasks.\n",
    "Better use of cache storage by utilization of resources.\n",
    "Decreased cost of maintenance.\n",
    "\n",
    "\n",
    "Disadvantage of multithreading:\n",
    "Complex debugging and testing processes\n",
    "Overhead switching of context\n",
    "Increased potential for deadlock occurrence\n",
    "Increased difficulty level in writing a program\n",
    "Unpredictable results"
   ]
  },
  {
   "cell_type": "markdown",
   "id": "8625525c-548a-4094-b07b-c68b12cf5d53",
   "metadata": {},
   "source": [
    "Que.6 Explain deadlocks and race conditions."
   ]
  },
  {
   "cell_type": "code",
   "execution_count": null,
   "id": "bfbe7d3f-f04a-41f6-9a85-1080081b2b24",
   "metadata": {},
   "outputs": [],
   "source": [
    "'''A deadlock is when two (or more) threads are blocking each other. Usually this has something to do with threads trying to\n",
    "acquire shared resources. For example if threads T1 and T2 need to acquire both resources A and B in order to do their work.\n",
    "If T1 acquires resource A, then T2 acquires resource B, T1 could then be waiting for resource B while T2 was waiting for \n",
    "resource A. In this case, both threads will wait indefinitely for the resource held by the other thread. These threads are \n",
    "said to be deadlocked.\n",
    "This happens when 2 or more threads are waiting on each other to release the resource for infinite amount of time.\n",
    "In this the threads are in blocked state and not executing.\n",
    "\n",
    "Race conditions occur when two threads interact in a negatve (buggy) way depending on the exact order that their different \n",
    "instructions are executed. If one thread sets a global variable, for example, then a second thread reads and modifies that\n",
    "global variable, and the first thread reads the variable, the first thread may experience a bug because the variable has\n",
    "changed unexpectedly.\n",
    "This happens when 2 or more threads run in parallel but end up giving a result which is wrong and not equivalent if all the\n",
    "operations are done in sequential order.\n",
    "Here all the threads run and execute there operations."
   ]
  }
 ],
 "metadata": {
  "kernelspec": {
   "display_name": "Python 3 (ipykernel)",
   "language": "python",
   "name": "python3"
  },
  "language_info": {
   "codemirror_mode": {
    "name": "ipython",
    "version": 3
   },
   "file_extension": ".py",
   "mimetype": "text/x-python",
   "name": "python",
   "nbconvert_exporter": "python",
   "pygments_lexer": "ipython3",
   "version": "3.10.8"
  }
 },
 "nbformat": 4,
 "nbformat_minor": 5
}
