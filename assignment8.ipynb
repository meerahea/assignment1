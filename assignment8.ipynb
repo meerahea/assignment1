{
 "cells": [
  {
   "cell_type": "markdown",
   "id": "2775e347-f8da-4076-beeb-e911f01045c3",
   "metadata": {},
   "source": [
    "Que.1 What is an Exception in python?Difference between Exception and Syntax Error."
   ]
  },
  {
   "cell_type": "code",
   "execution_count": null,
   "id": "b1295675-6e1a-4b09-9acd-b16d34d40844",
   "metadata": {},
   "outputs": [],
   "source": [
    "'''An exception is an event, which occurs during the execution of a program that disrupts the normal flow of the program's\n",
    "instructions. In general, when a Python script encounters a situation that it cannot cope with, it raises an exception. \n",
    "An exception is a Python object that represents an error.\n",
    "Syntax error can happen at compile time or run time,while an Exception occurs at run-time.'''\n"
   ]
  },
  {
   "cell_type": "markdown",
   "id": "87b48345-07b8-4b9b-b4e0-6b1c9439e808",
   "metadata": {},
   "source": [
    "Que.2 What happen when an Exception is not handled?Explain with an Example."
   ]
  },
  {
   "cell_type": "code",
   "execution_count": null,
   "id": "09a27411-e426-46e8-b637-4f7ff69df898",
   "metadata": {},
   "outputs": [],
   "source": [
    "'''If an exception is not caught, the runtime system will abort the program and an exception message will print to the console.\n",
    "The message typically includes: name of exception type. short description."
   ]
  },
  {
   "cell_type": "code",
   "execution_count": 2,
   "id": "b4bbbf6e-a638-4285-a48c-02a9f4f4444a",
   "metadata": {},
   "outputs": [
    {
     "ename": "FileNotFoundError",
     "evalue": "[Errno 2] No such file or directory: 'test9.txt'",
     "output_type": "error",
     "traceback": [
      "\u001b[0;31m---------------------------------------------------------------------------\u001b[0m",
      "\u001b[0;31mFileNotFoundError\u001b[0m                         Traceback (most recent call last)",
      "Cell \u001b[0;32mIn[2], line 1\u001b[0m\n\u001b[0;32m----> 1\u001b[0m f \u001b[38;5;241m=\u001b[39m \u001b[38;5;28;43mopen\u001b[39;49m\u001b[43m(\u001b[49m\u001b[38;5;124;43m'\u001b[39;49m\u001b[38;5;124;43mtest9.txt\u001b[39;49m\u001b[38;5;124;43m'\u001b[39;49m\u001b[43m,\u001b[49m\u001b[38;5;124;43m'\u001b[39;49m\u001b[38;5;124;43mr\u001b[39;49m\u001b[38;5;124;43m'\u001b[39;49m\u001b[43m)\u001b[49m\n\u001b[1;32m      2\u001b[0m \u001b[38;5;28mprint\u001b[39m(\u001b[38;5;124m'\u001b[39m\u001b[38;5;124mthis is my file.\u001b[39m\u001b[38;5;124m'\u001b[39m)\n",
      "File \u001b[0;32m/opt/conda/lib/python3.10/site-packages/IPython/core/interactiveshell.py:282\u001b[0m, in \u001b[0;36m_modified_open\u001b[0;34m(file, *args, **kwargs)\u001b[0m\n\u001b[1;32m    275\u001b[0m \u001b[38;5;28;01mif\u001b[39;00m file \u001b[38;5;129;01min\u001b[39;00m {\u001b[38;5;241m0\u001b[39m, \u001b[38;5;241m1\u001b[39m, \u001b[38;5;241m2\u001b[39m}:\n\u001b[1;32m    276\u001b[0m     \u001b[38;5;28;01mraise\u001b[39;00m \u001b[38;5;167;01mValueError\u001b[39;00m(\n\u001b[1;32m    277\u001b[0m         \u001b[38;5;124mf\u001b[39m\u001b[38;5;124m\"\u001b[39m\u001b[38;5;124mIPython won\u001b[39m\u001b[38;5;124m'\u001b[39m\u001b[38;5;124mt let you open fd=\u001b[39m\u001b[38;5;132;01m{\u001b[39;00mfile\u001b[38;5;132;01m}\u001b[39;00m\u001b[38;5;124m by default \u001b[39m\u001b[38;5;124m\"\u001b[39m\n\u001b[1;32m    278\u001b[0m         \u001b[38;5;124m\"\u001b[39m\u001b[38;5;124mas it is likely to crash IPython. If you know what you are doing, \u001b[39m\u001b[38;5;124m\"\u001b[39m\n\u001b[1;32m    279\u001b[0m         \u001b[38;5;124m\"\u001b[39m\u001b[38;5;124myou can use builtins\u001b[39m\u001b[38;5;124m'\u001b[39m\u001b[38;5;124m open.\u001b[39m\u001b[38;5;124m\"\u001b[39m\n\u001b[1;32m    280\u001b[0m     )\n\u001b[0;32m--> 282\u001b[0m \u001b[38;5;28;01mreturn\u001b[39;00m \u001b[43mio_open\u001b[49m\u001b[43m(\u001b[49m\u001b[43mfile\u001b[49m\u001b[43m,\u001b[49m\u001b[43m \u001b[49m\u001b[38;5;241;43m*\u001b[39;49m\u001b[43margs\u001b[49m\u001b[43m,\u001b[49m\u001b[43m \u001b[49m\u001b[38;5;241;43m*\u001b[39;49m\u001b[38;5;241;43m*\u001b[39;49m\u001b[43mkwargs\u001b[49m\u001b[43m)\u001b[49m\n",
      "\u001b[0;31mFileNotFoundError\u001b[0m: [Errno 2] No such file or directory: 'test9.txt'"
     ]
    }
   ],
   "source": [
    "f = open('test9.txt','r') \n",
    "print('this is my file.')"
   ]
  },
  {
   "cell_type": "code",
   "execution_count": null,
   "id": "090e0d59-4f86-4ad2-a2ef-0b470e85d8d3",
   "metadata": {},
   "outputs": [],
   "source": [
    "'''Here at the first line we are trying to read test9 file that is not present,and it give me exception at run time.\n",
    "with holding an execution of next line.so it abort program.'''"
   ]
  },
  {
   "cell_type": "markdown",
   "id": "eed4ba87-a9ac-41b4-82cf-cbbb08d3e99e",
   "metadata": {},
   "source": [
    "Que.3Which python statments are use to catch and handle an exception?Explain with an example."
   ]
  },
  {
   "cell_type": "code",
   "execution_count": null,
   "id": "e8066f50-8497-49d5-b3f2-43209ab64da6",
   "metadata": {},
   "outputs": [],
   "source": [
    "'''The try and except block in Python is used to catch and handle exceptions. Python executes code following the try statement\n",
    "as a “normal” part of the program. The code that follows the except statement is the program's response to any exceptions in \n",
    "the preceding try clause.'''"
   ]
  },
  {
   "cell_type": "code",
   "execution_count": null,
   "id": "08f6eb97-a246-44aa-b207-989f9ea3e7ac",
   "metadata": {},
   "outputs": [
    {
     "name": "stdout",
     "output_type": "stream",
     "text": [
      "this is my for my assignment8. [Errno 2] No such file or directory: 'test9.txt'\n"
     ]
    },
    {
     "data": {
      "text/plain": [
       "9"
      ]
     },
     "execution_count": 3,
     "metadata": {},
     "output_type": "execute_result"
    }
   ],
   "source": [
    "try:\n",
    "    f = open('test9.txt','r')\n",
    "except Exception as e:\n",
    "    print('this is my for my assignment8.',e)\n",
    "\n",
    "a = 4+5\n",
    "a   "
   ]
  },
  {
   "cell_type": "code",
   "execution_count": null,
   "id": "3ed3e454-76a3-49d3-8027-1c0c271e60c2",
   "metadata": {},
   "outputs": [],
   "source": [
    "'''In this example python executes print function,while file test9 is not present instead of abort a progamme,\n",
    "execute to next print function in programme.'''"
   ]
  },
  {
   "cell_type": "markdown",
   "id": "f5cf9691-69f4-4f5b-8db9-37bee8b1bb95",
   "metadata": {},
   "source": [
    "Que.4 Explain with an example:\n",
    "a) try and raise\n",
    "b) finally\n",
    "c) raise\n"
   ]
  },
  {
   "cell_type": "code",
   "execution_count": null,
   "id": "0b39649b-2a0b-460a-a34f-eb4fc13c6837",
   "metadata": {},
   "outputs": [],
   "source": [
    "'''a) Try and raise are keywords used in exception handling in many programming languages. They are typically used together in a\n",
    "Try...except block to catch and handle exceptions that may occur during the execution of a piece of code.'''"
   ]
  },
  {
   "cell_type": "code",
   "execution_count": 2,
   "id": "9639a4ac-24b4-4dfe-856d-00d06ba75f76",
   "metadata": {},
   "outputs": [
    {
     "name": "stdout",
     "output_type": "stream",
     "text": [
      "An error occurred: Division by zero division by zero\n"
     ]
    }
   ],
   "source": [
    "try:\n",
    "    # Some code that may raise an exception\n",
    "    a = 10 / 0  # This will raise a ZeroDivisionError\n",
    "except ZeroDivisionError as e:\n",
    "    # Handling the exception\n",
    "    print(\"An error occurred: Division by zero\",e)"
   ]
  },
  {
   "cell_type": "code",
   "execution_count": null,
   "id": "f4659e8f-4c3f-40c6-96ba-c9316fc5fa0f",
   "metadata": {},
   "outputs": [],
   "source": [
    "'''b) Finally is another keyword used in exception handling, often used in conjunction with try and except. The finally block \n",
    "is optional and is executed regardless of whether an exception occurred or not. It is typically used to perform cleanup tasks \n",
    "or release resources that need to be freed, ensuring that certain code is always executed, regardless of exceptions.'''"
   ]
  },
  {
   "cell_type": "code",
   "execution_count": 5,
   "id": "02ff49d0-7a06-4ce0-9db6-9e4be9cef298",
   "metadata": {},
   "outputs": [
    {
     "name": "stdout",
     "output_type": "stream",
     "text": [
      "File not found!\n"
     ]
    },
    {
     "ename": "NameError",
     "evalue": "name 'f' is not defined",
     "output_type": "error",
     "traceback": [
      "\u001b[0;31m---------------------------------------------------------------------------\u001b[0m",
      "\u001b[0;31mNameError\u001b[0m                                 Traceback (most recent call last)",
      "Cell \u001b[0;32mIn[5], line 10\u001b[0m\n\u001b[1;32m      7\u001b[0m     \u001b[38;5;28mprint\u001b[39m(\u001b[38;5;124m\"\u001b[39m\u001b[38;5;124mFile not found!\u001b[39m\u001b[38;5;124m\"\u001b[39m)\n\u001b[1;32m      8\u001b[0m \u001b[38;5;28;01mfinally\u001b[39;00m:\n\u001b[1;32m      9\u001b[0m     \u001b[38;5;66;03m# Cleanup code to close the file\u001b[39;00m\n\u001b[0;32m---> 10\u001b[0m     \u001b[43mf\u001b[49m\u001b[38;5;241m.\u001b[39mclose()\n",
      "\u001b[0;31mNameError\u001b[0m: name 'f' is not defined"
     ]
    }
   ],
   "source": [
    "try:\n",
    "    # Some code that may raise an exception\n",
    "    file = open(\"example.txt\", \"r\")\n",
    "    content = file.read()\n",
    "    print(content)\n",
    "except FileNotFoundError:\n",
    "    print(\"File not found!\")\n",
    "finally:\n",
    "    # Cleanup code to close the file\n",
    "    file.close()"
   ]
  },
  {
   "cell_type": "code",
   "execution_count": null,
   "id": "99cb6c00-3594-4d4f-be19-8de22fa836a8",
   "metadata": {},
   "outputs": [],
   "source": [
    "'''c) Raise is a keyword used to manually raise an exception in programming languages. It allows you to create and raise your \n",
    "own custom exceptions or re-raise exceptions that were caught and handled earlier."
   ]
  },
  {
   "cell_type": "code",
   "execution_count": 6,
   "id": "e3a08afb-6294-4bcd-8b5a-19116afec838",
   "metadata": {},
   "outputs": [
    {
     "name": "stdout",
     "output_type": "stream",
     "text": [
      "An error occurred: Invalid year\n"
     ]
    }
   ],
   "source": [
    "def calculate_age(year):\n",
    "    if year > 2023:\n",
    "        raise ValueError(\"Invalid year\")  # Manually raising a ValueError\n",
    "    else:\n",
    "        age = 2023 - year\n",
    "        return age\n",
    "\n",
    "try:\n",
    "    age = calculate_age(2050)\n",
    "    print(\"Age:\", age)\n",
    "except ValueError as e:\n",
    "    print(\"An error occurred:\", str(e))"
   ]
  },
  {
   "cell_type": "markdown",
   "id": "fc9e38c5-8090-48d6-b8aa-ed547be5a782",
   "metadata": {},
   "source": [
    "Que.5What are custom an exception in python?why do we need custom exceptions?Explain with an example."
   ]
  },
  {
   "cell_type": "code",
   "execution_count": null,
   "id": "2fefca69-5b45-4446-8f8c-ebc8ca7983d1",
   "metadata": {},
   "outputs": [],
   "source": [
    "'''In Python, custom exceptions are user-defined exceptions that allow you to create and raise your own specific types of\n",
    "exceptions. While Python provides a wide range of built-in exceptions, creating custom exceptions can be useful in scenarios\n",
    "where you need to handle specific types of errors or situations in your code.\n",
    "\n",
    "Here are a few reasons why custom exceptions can be helpful:\n",
    "\n",
    "Code Clarity and Readability: By defining custom exceptions, you can make your code more expressive and self-documenting.\n",
    "Error Handling Specificity: Custom exceptions allow you to handle different types of errors or exceptional cases in a more \n",
    "granular way. \n",
    "Modularity and Reusability: Custom exceptions promote modularity in your codebase. You can define exception classes in \n",
    "separate modules or files and reuse them across different parts of your project.''' "
   ]
  },
  {
   "cell_type": "code",
   "execution_count": 1,
   "id": "4f1784cf-3750-492e-a9c4-a52d3534e053",
   "metadata": {},
   "outputs": [],
   "source": [
    "class WithdrawalError(Exception):\n",
    "    pass\n",
    "\n",
    "class InsufficientFundsError(WithdrawalError):\n",
    "    def __init__(self, balance, amount):\n",
    "        self.balance = balance\n",
    "        self.amount = amount\n",
    "        self.message = f\"Insufficient funds. Available balance: {balance}. Withdrawal amount: {amount}\"\n",
    "        super().__init__(self.message)\n",
    "        \n",
    "        \n",
    "    def get_balance(self):\n",
    "        return self.balance\n",
    "\n",
    "    def get_amount(self):\n",
    "        return self.amount\n",
    "\n",
    "def withdraw(balance, amount):\n",
    "    if amount > balance:\n",
    "        raise InsufficientFundsError(balance, amount)\n",
    "    else:\n",
    "        # Perform withdrawal logic\n",
    "        new_balance = balance - amount\n",
    "        return new_balance\n",
    "    try:\n",
    "        account_balance = 500\n",
    "        withdrawal_amount = 1000\n",
    "        new_balance = withdraw(account_balance, withdrawal_amount)\n",
    "        print(\"Withdrawal successful. New balance:\", new_balance)\n",
    "    except InsufficientFundsError as e:\n",
    "        print(\"Error:\", str(e))\n",
    "        print(\"Current balance:\", e.get_balance())\n",
    "        print(\"Requested amount:\", e.get_amount())\n"
   ]
  },
  {
   "cell_type": "code",
   "execution_count": null,
   "id": "d8a1257b-10be-466d-b9b4-f601c366b3b8",
   "metadata": {},
   "outputs": [],
   "source": [
    "'''In this example, we define two custom exceptions: WithdrawalError (a base class) and InsufficientFundsError (a subclass \n",
    "of WithdrawalError). The InsufficientFundsError class inherits from WithdrawalError to create a specific type of\n",
    "exception for the case of insufficient funds during a withdrawal.'''"
   ]
  },
  {
   "cell_type": "markdown",
   "id": "e1616c45-4177-4a19-a657-bd7d2ebdf7b3",
   "metadata": {},
   "source": [
    "Que.6Create a custom Exception class.Use this class to handle an exception."
   ]
  },
  {
   "cell_type": "code",
   "execution_count": 13,
   "id": "a71d3323-86fa-4265-9d93-6a9032cbeb0c",
   "metadata": {},
   "outputs": [],
   "source": [
    "class CustomException(Exception):\n",
    "    def __init__(self, message):\n",
    "        self.message = message\n",
    "        super().__init__(self.message)\n",
    "try:\n",
    "    # Code that might raise an exception\n",
    "    raise CustomException(\"This is a custom exception.\")\n",
    "except CustomException as e:\n",
    "    # Handling the custom exception\n",
    "    print(\"Caught a custom exception:\", e.message)"
   ]
  }
 ],
 "metadata": {
  "kernelspec": {
   "display_name": "Python 3 (ipykernel)",
   "language": "python",
   "name": "python3"
  },
  "language_info": {
   "codemirror_mode": {
    "name": "ipython",
    "version": 3
   },
   "file_extension": ".py",
   "mimetype": "text/x-python",
   "name": "python",
   "nbconvert_exporter": "python",
   "pygments_lexer": "ipython3",
   "version": "3.10.8"
  }
 },
 "nbformat": 4,
 "nbformat_minor": 5
}
