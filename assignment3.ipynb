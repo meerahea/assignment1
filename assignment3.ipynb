{
 "cells": [
  {
   "cell_type": "code",
   "execution_count": null,
   "id": "4b11d3cd-2283-4fd4-82ac-8d3683d084c6",
   "metadata": {},
   "outputs": [],
   "source": [
    "#que.1 which keyword is used to create a function ?\n",
    "# create a function to return a list of odd numbers in the range of 1 to 25."
   ]
  },
  {
   "cell_type": "code",
   "execution_count": null,
   "id": "d34ee35a-ac94-4154-b56d-1e65559a0d3d",
   "metadata": {},
   "outputs": [],
   "source": [
    "#'def' keyword is used to create a function"
   ]
  },
  {
   "cell_type": "code",
   "execution_count": 3,
   "id": "06c5bb1a-3efd-4865-ba4c-354f4d0313c3",
   "metadata": {},
   "outputs": [],
   "source": [
    "l = [1,2,3,4,5,6,7,8,9,10,11,12,13,14,15,16,17,18,19,20,21,22,23,24,25]\n",
    "def test(l):\n",
    "        l1 = []\n",
    "        for x in l:\n",
    "            if x % 2 != 0 :\n",
    "                l1.append(x)\n",
    "        return l1"
   ]
  },
  {
   "cell_type": "code",
   "execution_count": 4,
   "id": "9ec9e6a8-ba6c-4613-9967-e1ade8bd8b40",
   "metadata": {},
   "outputs": [
    {
     "data": {
      "text/plain": [
       "[1, 3, 5, 7, 9, 11, 13, 15, 17, 19, 21, 23, 25]"
      ]
     },
     "execution_count": 4,
     "metadata": {},
     "output_type": "execute_result"
    }
   ],
   "source": [
    "test(l)"
   ]
  },
  {
   "cell_type": "code",
   "execution_count": null,
   "id": "cccd67fb-dce7-4dc7-b1bc-7ac22911ff99",
   "metadata": {},
   "outputs": [],
   "source": [
    "#que.2why *args and *kwargs is used in some functions? create a function each for *args and *kwargs to demonstrate their use."
   ]
  },
  {
   "cell_type": "code",
   "execution_count": null,
   "id": "a4979f66-ec20-4091-a030-4cbafed9ba9e",
   "metadata": {},
   "outputs": [],
   "source": [
    "#*args and **kwargs are special syntex used in function definitions to allow the function to accept a variable number of argument\n",
    "#The *args syntax allows a function to accept a variable number of positional argument\n",
    "#while *kwargs syntax allows a function to accept a variable number of keyword arguments (or named arguments)"
   ]
  },
  {
   "cell_type": "code",
   "execution_count": 13,
   "id": "8e288928-7903-43bc-a881-650ac9cebacd",
   "metadata": {},
   "outputs": [
    {
     "name": "stdout",
     "output_type": "stream",
     "text": [
      "1\n",
      "2\n",
      "3\n",
      "pwskills\n",
      "[4, 5, 6]\n"
     ]
    }
   ],
   "source": [
    "def print_args(*args):\n",
    "    for arg in args:\n",
    "        print(arg)\n",
    "\n",
    "print_args(1, 2, 3, \"pwskills\", [4, 5, 6])"
   ]
  },
  {
   "cell_type": "code",
   "execution_count": 12,
   "id": "171929e5-690b-45d3-abe7-e3b015a26891",
   "metadata": {},
   "outputs": [
    {
     "name": "stdout",
     "output_type": "stream",
     "text": [
      "name : john\n",
      "age : 18\n",
      "city : bengaluru\n"
     ]
    }
   ],
   "source": [
    "def print_kwargs(**kwargs):\n",
    "    for key, value in kwargs.items():\n",
    "        print(key, \":\", value)\n",
    "\n",
    "print_kwargs(name=\"john\", age=18, city=\"bengaluru\")"
   ]
  },
  {
   "cell_type": "code",
   "execution_count": null,
   "id": "659c35b3-9803-4f27-b0e3-3d33e0136ac5",
   "metadata": {},
   "outputs": [],
   "source": [
    "#que.3what is an iterator in python? Name the method used to initialise the iterator object and the method to print the \n",
    "#first five elements of the given list [2,4,6,8,10,12,14,16,18,20]."
   ]
  },
  {
   "cell_type": "code",
   "execution_count": 4,
   "id": "63e1b60d-976d-4878-827a-a1dcdbf5f9a2",
   "metadata": {},
   "outputs": [
    {
     "name": "stdout",
     "output_type": "stream",
     "text": [
      "2\n",
      "4\n",
      "6\n",
      "8\n",
      "10\n"
     ]
    }
   ],
   "source": [
    "# iterator in python is an object which allows to iterate each of elements in either list,tuple or set\n",
    "list = [2, 4, 6, 8, 10, 12, 14, 16, 18, 20]\n",
    "iterator = iter(list)\n",
    "\n",
    "for _ in range(5):\n",
    "    x = next(iterator)\n",
    "    print(x)\n"
   ]
  },
  {
   "cell_type": "code",
   "execution_count": null,
   "id": "1afe7b97-691e-4d2e-b4f5-c00b1aebf770",
   "metadata": {},
   "outputs": [],
   "source": [
    "#que.4 what is a generator function in python?why yield keyword is used?Give an example of a generator function."
   ]
  },
  {
   "cell_type": "code",
   "execution_count": 9,
   "id": "1c7890ea-3380-452f-80f6-322af919394a",
   "metadata": {},
   "outputs": [
    {
     "name": "stdout",
     "output_type": "stream",
     "text": [
      "0\n",
      "1\n",
      "1\n",
      "2\n",
      "3\n",
      "5\n",
      "8\n",
      "13\n",
      "21\n",
      "34\n"
     ]
    }
   ],
   "source": [
    "# generator function in python is special function that returns an iterator, which can be iterated over to retrieve values one at a time. \n",
    "#here yield keyword is generator function in fibonacci series,with while loop.\n",
    "def fibonacci():\n",
    "    a, b = 0, 1\n",
    "\n",
    "    while True:\n",
    "        yield a\n",
    "        a, b = b, a + b\n",
    "        \n",
    "fib_generator = fibonacci()\n",
    "\n",
    "for _ in range(10):\n",
    "    fibonacci_number = next(fib_generator)\n",
    "    print(fibonacci_number)"
   ]
  },
  {
   "cell_type": "code",
   "execution_count": null,
   "id": "8cc2799e-c9f3-4032-8f3d-f8835e6b7e3d",
   "metadata": {},
   "outputs": [],
   "source": [
    "#que.5 create a geneartor function for prime numbers less than 1000.use the next() method to print the first 20 prime numbers"
   ]
  },
  {
   "cell_type": "code",
   "execution_count": null,
   "id": "5312cfda-87a2-49df-976f-bb6e84eac502",
   "metadata": {},
   "outputs": [
    {
     "name": "stdout",
     "output_type": "stream",
     "text": [
      "2\n",
      "3\n",
      "5\n",
      "7\n",
      "11\n",
      "13\n",
      "17\n",
      "19\n",
      "23\n",
      "29\n",
      "31\n",
      "37\n",
      "41\n",
      "43\n",
      "47\n",
      "53\n",
      "59\n",
      "61\n",
      "67\n",
      "71\n"
     ]
    }
   ],
   "source": [
    "def generate_primes():\n",
    "    primes = []\n",
    "    x = 2\n",
    "\n",
    "    while x < 1000:\n",
    "        is_prime = True\n",
    "\n",
    "        for prime in primes:\n",
    "            if x % prime == 0:\n",
    "                is_prime = False\n",
    "                break\n",
    "\n",
    "        if is_prime:\n",
    "            primes.append(x)\n",
    "            yield x\n",
    "\n",
    "        x += 1\n",
    "#first 20 prime numbers by using next      \n",
    "prime_generator = generate_primes()\n",
    "\n",
    "for _ in range(20):\n",
    "    prime = next(prime_generator)\n",
    "    print(prime)        "
   ]
  },
  {
   "cell_type": "code",
   "execution_count": null,
   "id": "3dd01deb-b3c1-4875-9ce9-8804fc229f85",
   "metadata": {},
   "outputs": [],
   "source": [
    "#que.6 Write a python program to print the first 10 fibonacci numbers using a while loop."
   ]
  },
  {
   "cell_type": "code",
   "execution_count": 1,
   "id": "70420036-4a1b-40ae-9a22-8b818ebfef01",
   "metadata": {},
   "outputs": [
    {
     "name": "stdout",
     "output_type": "stream",
     "text": [
      "0\n",
      "1\n",
      "1\n",
      "2\n",
      "3\n",
      "5\n",
      "8\n",
      "13\n",
      "21\n",
      "34\n"
     ]
    }
   ],
   "source": [
    "x1 = 0\n",
    "x2 = 1\n",
    "count = 0\n",
    "\n",
    "while count < 10:\n",
    "    print(x1)\n",
    "    nth = x1 + x2\n",
    "    x1 = x2\n",
    "    x2 = nth\n",
    "    count += 1"
   ]
  },
  {
   "cell_type": "code",
   "execution_count": null,
   "id": "93f4af93-7a9d-46a5-8af9-eba72a6275f9",
   "metadata": {},
   "outputs": [],
   "source": [
    "#que.7 Write a list comprehension to iterate through the given string:'pwskills'.expected o/p ['p','w','s','k','i','l','l','s']"
   ]
  },
  {
   "cell_type": "code",
   "execution_count": 1,
   "id": "9a62c829-f1c2-48b3-8e11-0c806f02daf0",
   "metadata": {},
   "outputs": [
    {
     "data": {
      "text/plain": [
       "['P', 'W', 'S', 'K', 'I', 'L', 'L', 'S']"
      ]
     },
     "execution_count": 1,
     "metadata": {},
     "output_type": "execute_result"
    }
   ],
   "source": [
    "s = 'pwskills'\n",
    "list(map(lambda s: s.upper(),s))"
   ]
  },
  {
   "cell_type": "code",
   "execution_count": null,
   "id": "207071fc-30cb-434d-90b8-efc96d2beb8f",
   "metadata": {},
   "outputs": [],
   "source": [
    "#que.8 Write a python program to check whether a given number is palindrome or not using a while loop."
   ]
  },
  {
   "cell_type": "code",
   "execution_count": null,
   "id": "65257276-9778-4434-8a43-20e66fac6b32",
   "metadata": {},
   "outputs": [
    {
     "name": "stdin",
     "output_type": "stream",
     "text": [
      "Enter a number:  12\n"
     ]
    },
    {
     "name": "stdout",
     "output_type": "stream",
     "text": [
      "12 is not a palindrome\n"
     ]
    }
   ],
   "source": [
    "x = int(input(\"Enter a number: \"))\n",
    "temp = x\n",
    "reverse = 0\n",
    "\n",
    "while temp != 0:\n",
    "    digit = temp % 10\n",
    "    reverse = reverse * 10 + digit\n",
    "    temp = temp // 10\n",
    "\n",
    "if x == reverse:\n",
    "    print(x, \"is a palindrome\")\n",
    "else:\n",
    "    print(x, \"is not a palindrome\")\n"
   ]
  },
  {
   "cell_type": "code",
   "execution_count": null,
   "id": "4201d3f9-37ad-45e3-9f1a-efac33dadcd1",
   "metadata": {},
   "outputs": [],
   "source": [
    "#que.9 Write a code to print odd numbers from 1 to 100 using list comprehension."
   ]
  },
  {
   "cell_type": "code",
   "execution_count": 3,
   "id": "2a4366bd-63b7-400c-a0ec-893b1af09a42",
   "metadata": {},
   "outputs": [
    {
     "name": "stdout",
     "output_type": "stream",
     "text": [
      "[1, 3, 5, 7, 9, 11, 13, 15, 17, 19, 21, 23, 25, 27, 29, 31, 33, 35, 37, 39, 41, 43, 45, 47, 49, 51, 53, 55, 57, 59, 61, 63, 65, 67, 69, 71, 73, 75, 77, 79, 81, 83, 85, 87, 89, 91, 93, 95, 97, 99]\n"
     ]
    }
   ],
   "source": [
    "odd_numbers = [x for x in range(1, 101) if x % 2 != 0]\n",
    "print(odd_numbers)\n"
   ]
  }
 ],
 "metadata": {
  "kernelspec": {
   "display_name": "Python 3 (ipykernel)",
   "language": "python",
   "name": "python3"
  },
  "language_info": {
   "codemirror_mode": {
    "name": "ipython",
    "version": 3
   },
   "file_extension": ".py",
   "mimetype": "text/x-python",
   "name": "python",
   "nbconvert_exporter": "python",
   "pygments_lexer": "ipython3",
   "version": "3.10.8"
  }
 },
 "nbformat": 4,
 "nbformat_minor": 5
}
