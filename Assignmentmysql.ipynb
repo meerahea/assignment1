{
 "cells": [
  {
   "cell_type": "markdown",
   "id": "1811cade-f6e3-4833-a2f5-529039ae71fb",
   "metadata": {},
   "source": [
    "Que1. What is a database? Differentiate between SQL and NoSQL databases."
   ]
  },
  {
   "cell_type": "code",
   "execution_count": null,
   "id": "c2375291-0d5f-4c4b-9ec6-c446d6a454cb",
   "metadata": {},
   "outputs": [],
   "source": [
    "'''A database is a structured collection of data that is organized and stored in a way that allows for efficient retrieval, \n",
    "management, and manipulation of information. It is designed to store and manage large volumes of data, making it easier to \n",
    "access and analyze.\n",
    "\n",
    "SQL (Structured Query Language) and NoSQL (Not only SQL) are two different types of database management systems that use\n",
    "different approaches to store and retrieve data.\n",
    "\n",
    "SQL Databases:\n",
    "\n",
    "Structure: SQL databases are based on a structured data model, known as the relational model. Data is organized into tables \n",
    "with predefined schemas, consisting of rows (records) and columns (fields).\n",
    "Schema and Flexibility: SQL databases have a fixed schema, meaning that the structure and types of data must be defined in \n",
    "advance.Adding or modifying the schema can be more challenging.\n",
    "Data Integrity: SQL databases enforce data integrity constraints, such as enforcing relationships between tables and ensuring \n",
    "data consistency through features like primary keys and foreign keys.\n",
    "Queries: SQL databases use SQL as the standard language for querying and manipulating data. SQL offers a powerful set of \n",
    "declarative commands for retrieving and manipulating data.\n",
    "Scalability: SQL databases are generally vertically scalable, meaning they can handle increased load by increasing the \n",
    "hardware resources of a single server. They excel in handling structured and complex relationships between data.\n",
    "\n",
    "NoSQL Databases:\n",
    "\n",
    "Structure: NoSQL databases use a variety of data models, such as key-value, document, columnar, and graph. These models are\n",
    "more flexible and allow for storing unstructured or semi-structured data.\n",
    "Schema and Flexibility: NoSQL databases have a flexible schema, allowing for dynamic and schema-less data storage. Data can \n",
    "be added without predefined structure, making it easier to adapt to changing requirements.\n",
    "Data Integrity: NoSQL databases often prioritize scalability and performance over enforcing strict data integrity constraints.\n",
    "However, some NoSQL databases provide mechanisms for eventual consistency or limited constraints.\n",
    "Queries: NoSQL databases use different query languages depending on the database type. Some NoSQL databases support SQL-like\n",
    "querying, while others use proprietary query languages specific to their data model.\n",
    "Scalability: NoSQL databases are designed for horizontal scalability, meaning they can handle increased load by distributing \n",
    "the data across multiple servers or nodes. They excel in handling large-scale data and high traffic volumes."
   ]
  },
  {
   "cell_type": "markdown",
   "id": "f99b21c1-63a2-4377-a4a3-af508d4105e7",
   "metadata": {},
   "source": [
    "Que.2 What is DDL? Explain why CREATE, DROP, ALTER, and TRUNCATE are used with an example."
   ]
  },
  {
   "cell_type": "code",
   "execution_count": null,
   "id": "c5d7fc42-5d8d-4fb3-8460-ea578891f60c",
   "metadata": {},
   "outputs": [],
   "source": [
    "'''DDL(Data Definition Language)  is a subset of SQL (Structured Query Language) used to define and manage the structure of \n",
    "a database and its objects. DDL statements are used to create, modify, and delete database objects such as tables, views, \n",
    "indexes, and constraints.\n",
    "CREATE: The CREATE statement is used to create new database objects, such as tables, views, indexes, or constraints. It \n",
    "specifies the object's name, structure, and any additional properties. For example:'''"
   ]
  },
  {
   "cell_type": "code",
   "execution_count": null,
   "id": "458cbaa3-c29e-4862-97f0-e81c826ed867",
   "metadata": {},
   "outputs": [],
   "source": [
    "#Creates a table named \"employees\" with columns for ID, name, age, and department.\n",
    "CREATE TABLE employees (id INT PRIMARY KEY,name VARCHAR(100),age INT,department VARCHAR(100));"
   ]
  },
  {
   "cell_type": "code",
   "execution_count": null,
   "id": "9a2c7728-3693-469a-825c-960df190f8dd",
   "metadata": {},
   "outputs": [],
   "source": [
    "'''DROP: The DROP statement is used to delete existing database objects, such as tables, views, indexes, or constraints. It\n",
    "permanently removes the specified object and its associated data. For example:'''"
   ]
  },
  {
   "cell_type": "code",
   "execution_count": null,
   "id": "ef087940-a668-4889-a48c-90a753220ceb",
   "metadata": {},
   "outputs": [],
   "source": [
    "# drops the \"employees\" table, deleting all the data and the table itself.\n",
    "DROP TABLE employees;"
   ]
  },
  {
   "cell_type": "code",
   "execution_count": null,
   "id": "171f0f76-18ec-4285-8aa8-b8e915c16bdc",
   "metadata": {},
   "outputs": [],
   "source": [
    "'''ALTER: The ALTER statement is used to modify the structure of an existing database object. It allows you to add, modify, or\n",
    "drop columns, constraints, or other properties of a table, view, or index. For example:'''"
   ]
  },
  {
   "cell_type": "code",
   "execution_count": null,
   "id": "4be648a9-4f44-43c5-8041-4c0fe9e3f9ad",
   "metadata": {},
   "outputs": [],
   "source": [
    "#adds a new column named \"salary\" to the \"employees\" table\n",
    "ALTER TABLE employees\n",
    "ADD COLUMN salary DECIMAL(10,2);"
   ]
  },
  {
   "cell_type": "code",
   "execution_count": null,
   "id": "d4821e08-4376-43c8-8e83-04f97fe0008d",
   "metadata": {},
   "outputs": [],
   "source": [
    "'''TRUNCATE: The TRUNCATE statement is used to remove all the data from a table while keeping the table structure intact. It is\n",
    "a fast alternative to the DELETE statement when you want to remove all the records from a table. For example:'''"
   ]
  },
  {
   "cell_type": "code",
   "execution_count": null,
   "id": "bd44c178-6971-472e-b6a2-5bfecb424b3b",
   "metadata": {},
   "outputs": [],
   "source": [
    "# removes all the data from the \"employees\" table, leaving an empty table with the same structure\n",
    "TRUNCATE TABLE employees;"
   ]
  },
  {
   "cell_type": "markdown",
   "id": "c5e70529-1191-40a1-91bd-800ca3838046",
   "metadata": {},
   "source": [
    "Que.3 What is DML? Explain INSERT, UPDATE, and DELETE with an example."
   ]
  },
  {
   "cell_type": "code",
   "execution_count": null,
   "id": "de00e335-8e1d-40ec-954b-c68d438d40f4",
   "metadata": {},
   "outputs": [],
   "source": [
    "'''DML is an abbreviation of Data Manipulation Language. The DML commands in Structured Query Language change the data present\n",
    "in the SQL database. We can easily access, store, modify, update and delete the existing records from the database using DML \n",
    "commands.'''"
   ]
  },
  {
   "cell_type": "code",
   "execution_count": null,
   "id": "8a1892c1-97ec-4f6f-8571-e7834a36d907",
   "metadata": {},
   "outputs": [],
   "source": [
    "'''INSERT DML Command\n",
    "INSERT is most important data manipulation command in Structured Query Language, which allows users to insert data in database\n",
    "tables.'''"
   ]
  },
  {
   "cell_type": "code",
   "execution_count": null,
   "id": "5ef34682-169e-4e27-9bbd-2d8444afda52",
   "metadata": {},
   "outputs": [],
   "source": [
    "#insert data in TABLE_NAME \n",
    "INSERT INTO TABLE_NAME ()  VALUES ();   "
   ]
  },
  {
   "cell_type": "code",
   "execution_count": null,
   "id": "2bbd4955-4979-4603-86c9-008557dcb64b",
   "metadata": {},
   "outputs": [],
   "source": [
    "'''UPDATE is another most important data manipulation command in Structured Query Language, which allows users to update or\n",
    "modify the existing data in database tables.'''"
   ]
  },
  {
   "cell_type": "code",
   "execution_count": null,
   "id": "d37167e3-2135-4cf6-9af8-8372686833a4",
   "metadata": {},
   "outputs": [],
   "source": [
    "#update data/modify the data in TABLE_NAME\n",
    "UPDATE TABLE_NAME SET [] WHERE CONDITION;  "
   ]
  },
  {
   "cell_type": "code",
   "execution_count": null,
   "id": "76ea9497-6040-44b4-b0f3-a10b63690c3a",
   "metadata": {},
   "outputs": [],
   "source": [
    "'''DELETE is a DML command which allows SQL users to remove single or multiple existing records from the database tables.\n",
    "This command of Data Manipulation Language does not delete the stored data permanently from the database. We use the WHERE \n",
    "clause with the DELETE command to select specific rows from the table."
   ]
  },
  {
   "cell_type": "code",
   "execution_count": null,
   "id": "645a6af4-3ec6-40a1-87aa-cf9fa5691a22",
   "metadata": {},
   "outputs": [],
   "source": [
    "#delete from TABLE_NAME data\n",
    "DELETE FROM TABLE_NAME WHERE condition;  "
   ]
  },
  {
   "cell_type": "markdown",
   "id": "35d9561d-df73-4274-b181-8424517a4732",
   "metadata": {},
   "source": [
    "Que.4 What is DQL? Explain SELECT with an example."
   ]
  },
  {
   "cell_type": "code",
   "execution_count": null,
   "id": "0c009127-ae1f-4b6b-aa7f-87744f16c1bb",
   "metadata": {},
   "outputs": [],
   "source": [
    "'''DQL is a portion of a SQL statement that allows you to get and organise data from a database. You can use the SELECT command\n",
    "to extract data from a database in order to perform actions on it."
   ]
  },
  {
   "cell_type": "code",
   "execution_count": null,
   "id": "a494c116-6cf1-4cc3-b49d-a61ddb70ec1e",
   "metadata": {},
   "outputs": [],
   "source": [
    "SELECT (column-list)FROM(TABLE_NAME);"
   ]
  },
  {
   "cell_type": "code",
   "execution_count": null,
   "id": "4f8dea3a-74ec-4115-a414-0dd25fc59b82",
   "metadata": {},
   "outputs": [],
   "source": [
    "'''Table-name is the name of the table from which the information is retrieved.\n",
    "Column-list includes one or more columns from which data is retrieved.'''"
   ]
  },
  {
   "cell_type": "markdown",
   "id": "db2c9412-1933-427c-8ffc-3c66ddb969ec",
   "metadata": {},
   "source": [
    "Que.5 Explain Primary Key and Foreign Key."
   ]
  },
  {
   "cell_type": "code",
   "execution_count": null,
   "id": "1e7e2398-7422-4991-8d0b-efbc4e647b56",
   "metadata": {},
   "outputs": [],
   "source": [
    "'''Keys are one of the most important elements in a relational database to maintain the relationship between the tables and it\n",
    "also helps in uniquely identifying the data from a table. The primary Key is a key that helps in uniquely identifying the \n",
    "tuple of the database whereas the Foreign Key is a key that is used to identify the relationship between the tables through\n",
    "the primary key of one table that is the primary key one table acts as a foreign key to another table.\n",
    "A primary key is used to ensure that data in the specific column is unique. A column cannot have NULL values. It is either \n",
    "an existing table column or a column that is specifically generated by the database according to a defined sequence. \n",
    "What is Foreign Key?\n",
    "A foreign key is a column or group of columns in a relational database table that provides a link between data in two tables.\n",
    "It is a column (or columns) that references a column (most often the primary key) of another table.'''"
   ]
  },
  {
   "cell_type": "markdown",
   "id": "4ee55800-2825-4b28-b9c4-ecdd18e64542",
   "metadata": {},
   "source": [
    "Que.6 Write a python code to connect MySQL to python. Explain the cursor() and execute() method."
   ]
  },
  {
   "cell_type": "code",
   "execution_count": null,
   "id": "c90c73e3-e14b-46f4-b72e-65352c975d7d",
   "metadata": {},
   "outputs": [],
   "source": [
    "'''To connect MySQL to Python, you can use the mysql-connector-python library. Here's an example code that shows\n",
    "connection and provides an explanation of the cursor() and execute() methods:"
   ]
  },
  {
   "cell_type": "code",
   "execution_count": null,
   "id": "c4b00708-6406-4ccd-b38b-bd2522fec9be",
   "metadata": {},
   "outputs": [],
   "source": [
    "import mysql.connector\n",
    "\n",
    "mydb =mysql.connector.connect(host='localhost',user = 'yourusername',password='yourpassword',database='yourdatabase')\n",
    "\n",
    "#Creating a cursor object\n",
    "cursor = mydb.cursor()\n",
    "\n",
    "#Using the cursor to execute SQL queries\n",
    "cursor.execute(\"SELECT * FROM Table\")\n",
    "\n",
    "#Fetching data from the executed query\n",
    "result = cursor.fetchall()\n",
    "\n",
    "#Displaying the fetched data\n",
    "for row in result:\n",
    "    print(row)\n",
    "    \n",
    "#Closing the cursor and the connection\n",
    "cursor.close()\n",
    "mydb.close()"
   ]
  },
  {
   "cell_type": "markdown",
   "id": "d595a363-0113-4078-8b80-27d2d0d56327",
   "metadata": {},
   "source": [
    "Que.7 Give the order of execution of SQL clauses in an SQL query."
   ]
  },
  {
   "cell_type": "code",
   "execution_count": null,
   "id": "703f1242-6eba-488b-8651-28768da5fce5",
   "metadata": {},
   "outputs": [],
   "source": [
    "'''The order of execution of SQL clauses in an SQL query is as follows:\n",
    "\n",
    "FROM: Specifies the table(s) from which to retrieve the data.\n",
    "WHERE: Filters the rows based on the specified conditions.\n",
    "GROUP BY: Groups the rows based on one or more columns.\n",
    "HAVING: Filters the grouped rows based on the specified conditions.\n",
    "SELECT: Specifies the columns to retrieve from the table.\n",
    "DISTINCT: Removes duplicate rows from the result set.\n",
    "ORDER BY: Sorts the result set based on one or more columns.\n",
    "LIMIT: Limits the number of rows returned by the query.\n",
    "\n",
    "The presence and order of execution of clauses depend on the specific requirements of the query. Additionally, some\n",
    "clauses like JOIN, GROUP BY, and HAVING may not be used in every query, depending on the nature of the data and \n",
    "the desired output.'''\n"
   ]
  }
 ],
 "metadata": {
  "kernelspec": {
   "display_name": "Python 3 (ipykernel)",
   "language": "python",
   "name": "python3"
  },
  "language_info": {
   "codemirror_mode": {
    "name": "ipython",
    "version": 3
   },
   "file_extension": ".py",
   "mimetype": "text/x-python",
   "name": "python",
   "nbconvert_exporter": "python",
   "pygments_lexer": "ipython3",
   "version": "3.10.8"
  }
 },
 "nbformat": 4,
 "nbformat_minor": 5
}
